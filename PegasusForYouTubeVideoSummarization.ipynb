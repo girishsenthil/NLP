{
  "nbformat": 4,
  "nbformat_minor": 0,
  "metadata": {
    "colab": {
      "name": "PegasusForYouTubeVideoSummarization.ipynb",
      "provenance": [],
      "collapsed_sections": [
        "OTsaKweKaBww",
        "SgqjfNnfOhK9",
        "GUEjJ0WdjPnq",
        "sLIKPTXbzP67",
        "5sy2oud5O4WF",
        "J90dvXwdbHAC",
        "Lg-tOhwvzm7Z",
        "tUF_sGAkNZNC"
      ],
      "mount_file_id": "1ZIhCM6gukUKckrnssOSZOH6jhiEeio8p",
      "authorship_tag": "ABX9TyPKjZ36h7OgflwKa1xcM6hJ",
      "include_colab_link": true
    },
    "kernelspec": {
      "name": "python3",
      "display_name": "Python 3"
    },
    "language_info": {
      "name": "python"
    },
    "accelerator": "GPU",
    "gpuClass": "standard",
    "widgets": {
      "application/vnd.jupyter.widget-state+json": {
        "dcce47a2688f4b55997dd6fb269c864e": {
          "model_module": "@jupyter-widgets/controls",
          "model_name": "HBoxModel",
          "model_module_version": "1.5.0",
          "state": {
            "_dom_classes": [],
            "_model_module": "@jupyter-widgets/controls",
            "_model_module_version": "1.5.0",
            "_model_name": "HBoxModel",
            "_view_count": null,
            "_view_module": "@jupyter-widgets/controls",
            "_view_module_version": "1.5.0",
            "_view_name": "HBoxView",
            "box_style": "",
            "children": [
              "IPY_MODEL_27a6a35734494334b303c6cddc760a97",
              "IPY_MODEL_d946832353034ef69d5389567a732ce6",
              "IPY_MODEL_acb0893dd54448d59e682cbc0d1c74aa"
            ],
            "layout": "IPY_MODEL_041fce2d02a04f7395e65c672a88a6e2"
          }
        },
        "27a6a35734494334b303c6cddc760a97": {
          "model_module": "@jupyter-widgets/controls",
          "model_name": "HTMLModel",
          "model_module_version": "1.5.0",
          "state": {
            "_dom_classes": [],
            "_model_module": "@jupyter-widgets/controls",
            "_model_module_version": "1.5.0",
            "_model_name": "HTMLModel",
            "_view_count": null,
            "_view_module": "@jupyter-widgets/controls",
            "_view_module_version": "1.5.0",
            "_view_name": "HTMLView",
            "description": "",
            "description_tooltip": null,
            "layout": "IPY_MODEL_53840df1706842a09d01601b0a36e183",
            "placeholder": "​",
            "style": "IPY_MODEL_f3d418e225cd4470a92d575934f03170",
            "value": "Downloading: 100%"
          }
        },
        "d946832353034ef69d5389567a732ce6": {
          "model_module": "@jupyter-widgets/controls",
          "model_name": "FloatProgressModel",
          "model_module_version": "1.5.0",
          "state": {
            "_dom_classes": [],
            "_model_module": "@jupyter-widgets/controls",
            "_model_module_version": "1.5.0",
            "_model_name": "FloatProgressModel",
            "_view_count": null,
            "_view_module": "@jupyter-widgets/controls",
            "_view_module_version": "1.5.0",
            "_view_name": "ProgressView",
            "bar_style": "success",
            "description": "",
            "description_tooltip": null,
            "layout": "IPY_MODEL_2aff524924cb4f5387849860158e6e50",
            "max": 3094,
            "min": 0,
            "orientation": "horizontal",
            "style": "IPY_MODEL_c88c7f8e47d342c7b314350e7f8ca97b",
            "value": 3094
          }
        },
        "acb0893dd54448d59e682cbc0d1c74aa": {
          "model_module": "@jupyter-widgets/controls",
          "model_name": "HTMLModel",
          "model_module_version": "1.5.0",
          "state": {
            "_dom_classes": [],
            "_model_module": "@jupyter-widgets/controls",
            "_model_module_version": "1.5.0",
            "_model_name": "HTMLModel",
            "_view_count": null,
            "_view_module": "@jupyter-widgets/controls",
            "_view_module_version": "1.5.0",
            "_view_name": "HTMLView",
            "description": "",
            "description_tooltip": null,
            "layout": "IPY_MODEL_0057b37714bb474cbf0e457a05e16bdf",
            "placeholder": "​",
            "style": "IPY_MODEL_13411fd693d8442888605648faea5c64",
            "value": " 3.02k/3.02k [00:00&lt;00:00, 91.3kB/s]"
          }
        },
        "041fce2d02a04f7395e65c672a88a6e2": {
          "model_module": "@jupyter-widgets/base",
          "model_name": "LayoutModel",
          "model_module_version": "1.2.0",
          "state": {
            "_model_module": "@jupyter-widgets/base",
            "_model_module_version": "1.2.0",
            "_model_name": "LayoutModel",
            "_view_count": null,
            "_view_module": "@jupyter-widgets/base",
            "_view_module_version": "1.2.0",
            "_view_name": "LayoutView",
            "align_content": null,
            "align_items": null,
            "align_self": null,
            "border": null,
            "bottom": null,
            "display": null,
            "flex": null,
            "flex_flow": null,
            "grid_area": null,
            "grid_auto_columns": null,
            "grid_auto_flow": null,
            "grid_auto_rows": null,
            "grid_column": null,
            "grid_gap": null,
            "grid_row": null,
            "grid_template_areas": null,
            "grid_template_columns": null,
            "grid_template_rows": null,
            "height": null,
            "justify_content": null,
            "justify_items": null,
            "left": null,
            "margin": null,
            "max_height": null,
            "max_width": null,
            "min_height": null,
            "min_width": null,
            "object_fit": null,
            "object_position": null,
            "order": null,
            "overflow": null,
            "overflow_x": null,
            "overflow_y": null,
            "padding": null,
            "right": null,
            "top": null,
            "visibility": null,
            "width": null
          }
        },
        "53840df1706842a09d01601b0a36e183": {
          "model_module": "@jupyter-widgets/base",
          "model_name": "LayoutModel",
          "model_module_version": "1.2.0",
          "state": {
            "_model_module": "@jupyter-widgets/base",
            "_model_module_version": "1.2.0",
            "_model_name": "LayoutModel",
            "_view_count": null,
            "_view_module": "@jupyter-widgets/base",
            "_view_module_version": "1.2.0",
            "_view_name": "LayoutView",
            "align_content": null,
            "align_items": null,
            "align_self": null,
            "border": null,
            "bottom": null,
            "display": null,
            "flex": null,
            "flex_flow": null,
            "grid_area": null,
            "grid_auto_columns": null,
            "grid_auto_flow": null,
            "grid_auto_rows": null,
            "grid_column": null,
            "grid_gap": null,
            "grid_row": null,
            "grid_template_areas": null,
            "grid_template_columns": null,
            "grid_template_rows": null,
            "height": null,
            "justify_content": null,
            "justify_items": null,
            "left": null,
            "margin": null,
            "max_height": null,
            "max_width": null,
            "min_height": null,
            "min_width": null,
            "object_fit": null,
            "object_position": null,
            "order": null,
            "overflow": null,
            "overflow_x": null,
            "overflow_y": null,
            "padding": null,
            "right": null,
            "top": null,
            "visibility": null,
            "width": null
          }
        },
        "f3d418e225cd4470a92d575934f03170": {
          "model_module": "@jupyter-widgets/controls",
          "model_name": "DescriptionStyleModel",
          "model_module_version": "1.5.0",
          "state": {
            "_model_module": "@jupyter-widgets/controls",
            "_model_module_version": "1.5.0",
            "_model_name": "DescriptionStyleModel",
            "_view_count": null,
            "_view_module": "@jupyter-widgets/base",
            "_view_module_version": "1.2.0",
            "_view_name": "StyleView",
            "description_width": ""
          }
        },
        "2aff524924cb4f5387849860158e6e50": {
          "model_module": "@jupyter-widgets/base",
          "model_name": "LayoutModel",
          "model_module_version": "1.2.0",
          "state": {
            "_model_module": "@jupyter-widgets/base",
            "_model_module_version": "1.2.0",
            "_model_name": "LayoutModel",
            "_view_count": null,
            "_view_module": "@jupyter-widgets/base",
            "_view_module_version": "1.2.0",
            "_view_name": "LayoutView",
            "align_content": null,
            "align_items": null,
            "align_self": null,
            "border": null,
            "bottom": null,
            "display": null,
            "flex": null,
            "flex_flow": null,
            "grid_area": null,
            "grid_auto_columns": null,
            "grid_auto_flow": null,
            "grid_auto_rows": null,
            "grid_column": null,
            "grid_gap": null,
            "grid_row": null,
            "grid_template_areas": null,
            "grid_template_columns": null,
            "grid_template_rows": null,
            "height": null,
            "justify_content": null,
            "justify_items": null,
            "left": null,
            "margin": null,
            "max_height": null,
            "max_width": null,
            "min_height": null,
            "min_width": null,
            "object_fit": null,
            "object_position": null,
            "order": null,
            "overflow": null,
            "overflow_x": null,
            "overflow_y": null,
            "padding": null,
            "right": null,
            "top": null,
            "visibility": null,
            "width": null
          }
        },
        "c88c7f8e47d342c7b314350e7f8ca97b": {
          "model_module": "@jupyter-widgets/controls",
          "model_name": "ProgressStyleModel",
          "model_module_version": "1.5.0",
          "state": {
            "_model_module": "@jupyter-widgets/controls",
            "_model_module_version": "1.5.0",
            "_model_name": "ProgressStyleModel",
            "_view_count": null,
            "_view_module": "@jupyter-widgets/base",
            "_view_module_version": "1.2.0",
            "_view_name": "StyleView",
            "bar_color": null,
            "description_width": ""
          }
        },
        "0057b37714bb474cbf0e457a05e16bdf": {
          "model_module": "@jupyter-widgets/base",
          "model_name": "LayoutModel",
          "model_module_version": "1.2.0",
          "state": {
            "_model_module": "@jupyter-widgets/base",
            "_model_module_version": "1.2.0",
            "_model_name": "LayoutModel",
            "_view_count": null,
            "_view_module": "@jupyter-widgets/base",
            "_view_module_version": "1.2.0",
            "_view_name": "LayoutView",
            "align_content": null,
            "align_items": null,
            "align_self": null,
            "border": null,
            "bottom": null,
            "display": null,
            "flex": null,
            "flex_flow": null,
            "grid_area": null,
            "grid_auto_columns": null,
            "grid_auto_flow": null,
            "grid_auto_rows": null,
            "grid_column": null,
            "grid_gap": null,
            "grid_row": null,
            "grid_template_areas": null,
            "grid_template_columns": null,
            "grid_template_rows": null,
            "height": null,
            "justify_content": null,
            "justify_items": null,
            "left": null,
            "margin": null,
            "max_height": null,
            "max_width": null,
            "min_height": null,
            "min_width": null,
            "object_fit": null,
            "object_position": null,
            "order": null,
            "overflow": null,
            "overflow_x": null,
            "overflow_y": null,
            "padding": null,
            "right": null,
            "top": null,
            "visibility": null,
            "width": null
          }
        },
        "13411fd693d8442888605648faea5c64": {
          "model_module": "@jupyter-widgets/controls",
          "model_name": "DescriptionStyleModel",
          "model_module_version": "1.5.0",
          "state": {
            "_model_module": "@jupyter-widgets/controls",
            "_model_module_version": "1.5.0",
            "_model_name": "DescriptionStyleModel",
            "_view_count": null,
            "_view_module": "@jupyter-widgets/base",
            "_view_module_version": "1.2.0",
            "_view_name": "StyleView",
            "description_width": ""
          }
        },
        "7b872b298ca34b61ad335b97d7f90e84": {
          "model_module": "@jupyter-widgets/controls",
          "model_name": "HBoxModel",
          "model_module_version": "1.5.0",
          "state": {
            "_dom_classes": [],
            "_model_module": "@jupyter-widgets/controls",
            "_model_module_version": "1.5.0",
            "_model_name": "HBoxModel",
            "_view_count": null,
            "_view_module": "@jupyter-widgets/controls",
            "_view_module_version": "1.5.0",
            "_view_name": "HBoxView",
            "box_style": "",
            "children": [
              "IPY_MODEL_9d1fabe7551e4a4db7eb11a41602ec8e",
              "IPY_MODEL_9287597a341c49d9baa07be563cc976e",
              "IPY_MODEL_b083748e44a9405ebc0369fd7764b1f1"
            ],
            "layout": "IPY_MODEL_4f94b8ca63204ea2a0ac655ad113b759"
          }
        },
        "9d1fabe7551e4a4db7eb11a41602ec8e": {
          "model_module": "@jupyter-widgets/controls",
          "model_name": "HTMLModel",
          "model_module_version": "1.5.0",
          "state": {
            "_dom_classes": [],
            "_model_module": "@jupyter-widgets/controls",
            "_model_module_version": "1.5.0",
            "_model_name": "HTMLModel",
            "_view_count": null,
            "_view_module": "@jupyter-widgets/controls",
            "_view_module_version": "1.5.0",
            "_view_name": "HTMLView",
            "description": "",
            "description_tooltip": null,
            "layout": "IPY_MODEL_e05c2bd56aef4b6887c5fb97415a3ace",
            "placeholder": "​",
            "style": "IPY_MODEL_c969b076074c414aa0873d74838f3bf4",
            "value": "Downloading: 100%"
          }
        },
        "9287597a341c49d9baa07be563cc976e": {
          "model_module": "@jupyter-widgets/controls",
          "model_name": "FloatProgressModel",
          "model_module_version": "1.5.0",
          "state": {
            "_dom_classes": [],
            "_model_module": "@jupyter-widgets/controls",
            "_model_module_version": "1.5.0",
            "_model_name": "FloatProgressModel",
            "_view_count": null,
            "_view_module": "@jupyter-widgets/controls",
            "_view_module_version": "1.5.0",
            "_view_name": "ProgressView",
            "bar_style": "success",
            "description": "",
            "description_tooltip": null,
            "layout": "IPY_MODEL_a47e90eda831464a9b2af78bb5dc4d2f",
            "max": 2275327883,
            "min": 0,
            "orientation": "horizontal",
            "style": "IPY_MODEL_9f018d5c7dc44737bb7bef258a973a2a",
            "value": 2275327883
          }
        },
        "b083748e44a9405ebc0369fd7764b1f1": {
          "model_module": "@jupyter-widgets/controls",
          "model_name": "HTMLModel",
          "model_module_version": "1.5.0",
          "state": {
            "_dom_classes": [],
            "_model_module": "@jupyter-widgets/controls",
            "_model_module_version": "1.5.0",
            "_model_name": "HTMLModel",
            "_view_count": null,
            "_view_module": "@jupyter-widgets/controls",
            "_view_module_version": "1.5.0",
            "_view_name": "HTMLView",
            "description": "",
            "description_tooltip": null,
            "layout": "IPY_MODEL_54deb23601ca40e990b5bc14eba2e1a8",
            "placeholder": "​",
            "style": "IPY_MODEL_f22948845a424de2888fb462e48f1f63",
            "value": " 2.12G/2.12G [00:36&lt;00:00, 56.3MB/s]"
          }
        },
        "4f94b8ca63204ea2a0ac655ad113b759": {
          "model_module": "@jupyter-widgets/base",
          "model_name": "LayoutModel",
          "model_module_version": "1.2.0",
          "state": {
            "_model_module": "@jupyter-widgets/base",
            "_model_module_version": "1.2.0",
            "_model_name": "LayoutModel",
            "_view_count": null,
            "_view_module": "@jupyter-widgets/base",
            "_view_module_version": "1.2.0",
            "_view_name": "LayoutView",
            "align_content": null,
            "align_items": null,
            "align_self": null,
            "border": null,
            "bottom": null,
            "display": null,
            "flex": null,
            "flex_flow": null,
            "grid_area": null,
            "grid_auto_columns": null,
            "grid_auto_flow": null,
            "grid_auto_rows": null,
            "grid_column": null,
            "grid_gap": null,
            "grid_row": null,
            "grid_template_areas": null,
            "grid_template_columns": null,
            "grid_template_rows": null,
            "height": null,
            "justify_content": null,
            "justify_items": null,
            "left": null,
            "margin": null,
            "max_height": null,
            "max_width": null,
            "min_height": null,
            "min_width": null,
            "object_fit": null,
            "object_position": null,
            "order": null,
            "overflow": null,
            "overflow_x": null,
            "overflow_y": null,
            "padding": null,
            "right": null,
            "top": null,
            "visibility": null,
            "width": null
          }
        },
        "e05c2bd56aef4b6887c5fb97415a3ace": {
          "model_module": "@jupyter-widgets/base",
          "model_name": "LayoutModel",
          "model_module_version": "1.2.0",
          "state": {
            "_model_module": "@jupyter-widgets/base",
            "_model_module_version": "1.2.0",
            "_model_name": "LayoutModel",
            "_view_count": null,
            "_view_module": "@jupyter-widgets/base",
            "_view_module_version": "1.2.0",
            "_view_name": "LayoutView",
            "align_content": null,
            "align_items": null,
            "align_self": null,
            "border": null,
            "bottom": null,
            "display": null,
            "flex": null,
            "flex_flow": null,
            "grid_area": null,
            "grid_auto_columns": null,
            "grid_auto_flow": null,
            "grid_auto_rows": null,
            "grid_column": null,
            "grid_gap": null,
            "grid_row": null,
            "grid_template_areas": null,
            "grid_template_columns": null,
            "grid_template_rows": null,
            "height": null,
            "justify_content": null,
            "justify_items": null,
            "left": null,
            "margin": null,
            "max_height": null,
            "max_width": null,
            "min_height": null,
            "min_width": null,
            "object_fit": null,
            "object_position": null,
            "order": null,
            "overflow": null,
            "overflow_x": null,
            "overflow_y": null,
            "padding": null,
            "right": null,
            "top": null,
            "visibility": null,
            "width": null
          }
        },
        "c969b076074c414aa0873d74838f3bf4": {
          "model_module": "@jupyter-widgets/controls",
          "model_name": "DescriptionStyleModel",
          "model_module_version": "1.5.0",
          "state": {
            "_model_module": "@jupyter-widgets/controls",
            "_model_module_version": "1.5.0",
            "_model_name": "DescriptionStyleModel",
            "_view_count": null,
            "_view_module": "@jupyter-widgets/base",
            "_view_module_version": "1.2.0",
            "_view_name": "StyleView",
            "description_width": ""
          }
        },
        "a47e90eda831464a9b2af78bb5dc4d2f": {
          "model_module": "@jupyter-widgets/base",
          "model_name": "LayoutModel",
          "model_module_version": "1.2.0",
          "state": {
            "_model_module": "@jupyter-widgets/base",
            "_model_module_version": "1.2.0",
            "_model_name": "LayoutModel",
            "_view_count": null,
            "_view_module": "@jupyter-widgets/base",
            "_view_module_version": "1.2.0",
            "_view_name": "LayoutView",
            "align_content": null,
            "align_items": null,
            "align_self": null,
            "border": null,
            "bottom": null,
            "display": null,
            "flex": null,
            "flex_flow": null,
            "grid_area": null,
            "grid_auto_columns": null,
            "grid_auto_flow": null,
            "grid_auto_rows": null,
            "grid_column": null,
            "grid_gap": null,
            "grid_row": null,
            "grid_template_areas": null,
            "grid_template_columns": null,
            "grid_template_rows": null,
            "height": null,
            "justify_content": null,
            "justify_items": null,
            "left": null,
            "margin": null,
            "max_height": null,
            "max_width": null,
            "min_height": null,
            "min_width": null,
            "object_fit": null,
            "object_position": null,
            "order": null,
            "overflow": null,
            "overflow_x": null,
            "overflow_y": null,
            "padding": null,
            "right": null,
            "top": null,
            "visibility": null,
            "width": null
          }
        },
        "9f018d5c7dc44737bb7bef258a973a2a": {
          "model_module": "@jupyter-widgets/controls",
          "model_name": "ProgressStyleModel",
          "model_module_version": "1.5.0",
          "state": {
            "_model_module": "@jupyter-widgets/controls",
            "_model_module_version": "1.5.0",
            "_model_name": "ProgressStyleModel",
            "_view_count": null,
            "_view_module": "@jupyter-widgets/base",
            "_view_module_version": "1.2.0",
            "_view_name": "StyleView",
            "bar_color": null,
            "description_width": ""
          }
        },
        "54deb23601ca40e990b5bc14eba2e1a8": {
          "model_module": "@jupyter-widgets/base",
          "model_name": "LayoutModel",
          "model_module_version": "1.2.0",
          "state": {
            "_model_module": "@jupyter-widgets/base",
            "_model_module_version": "1.2.0",
            "_model_name": "LayoutModel",
            "_view_count": null,
            "_view_module": "@jupyter-widgets/base",
            "_view_module_version": "1.2.0",
            "_view_name": "LayoutView",
            "align_content": null,
            "align_items": null,
            "align_self": null,
            "border": null,
            "bottom": null,
            "display": null,
            "flex": null,
            "flex_flow": null,
            "grid_area": null,
            "grid_auto_columns": null,
            "grid_auto_flow": null,
            "grid_auto_rows": null,
            "grid_column": null,
            "grid_gap": null,
            "grid_row": null,
            "grid_template_areas": null,
            "grid_template_columns": null,
            "grid_template_rows": null,
            "height": null,
            "justify_content": null,
            "justify_items": null,
            "left": null,
            "margin": null,
            "max_height": null,
            "max_width": null,
            "min_height": null,
            "min_width": null,
            "object_fit": null,
            "object_position": null,
            "order": null,
            "overflow": null,
            "overflow_x": null,
            "overflow_y": null,
            "padding": null,
            "right": null,
            "top": null,
            "visibility": null,
            "width": null
          }
        },
        "f22948845a424de2888fb462e48f1f63": {
          "model_module": "@jupyter-widgets/controls",
          "model_name": "DescriptionStyleModel",
          "model_module_version": "1.5.0",
          "state": {
            "_model_module": "@jupyter-widgets/controls",
            "_model_module_version": "1.5.0",
            "_model_name": "DescriptionStyleModel",
            "_view_count": null,
            "_view_module": "@jupyter-widgets/base",
            "_view_module_version": "1.2.0",
            "_view_name": "StyleView",
            "description_width": ""
          }
        },
        "0a40602997354d5fa992576e2c7f8285": {
          "model_module": "@jupyter-widgets/controls",
          "model_name": "HBoxModel",
          "model_module_version": "1.5.0",
          "state": {
            "_dom_classes": [],
            "_model_module": "@jupyter-widgets/controls",
            "_model_module_version": "1.5.0",
            "_model_name": "HBoxModel",
            "_view_count": null,
            "_view_module": "@jupyter-widgets/controls",
            "_view_module_version": "1.5.0",
            "_view_name": "HBoxView",
            "box_style": "",
            "children": [
              "IPY_MODEL_e7842b24372e49a2b0d46ff31854b418",
              "IPY_MODEL_6aaa70409d244449864f1e5ae360ddbf",
              "IPY_MODEL_aac98346e1404b06adebf0733b1f9e9f"
            ],
            "layout": "IPY_MODEL_1033ab2d733a4fb1a29a39cbc25548c2"
          }
        },
        "e7842b24372e49a2b0d46ff31854b418": {
          "model_module": "@jupyter-widgets/controls",
          "model_name": "HTMLModel",
          "model_module_version": "1.5.0",
          "state": {
            "_dom_classes": [],
            "_model_module": "@jupyter-widgets/controls",
            "_model_module_version": "1.5.0",
            "_model_name": "HTMLModel",
            "_view_count": null,
            "_view_module": "@jupyter-widgets/controls",
            "_view_module_version": "1.5.0",
            "_view_name": "HTMLView",
            "description": "",
            "description_tooltip": null,
            "layout": "IPY_MODEL_61dee254500d4c7f9a4d9b1f06e4b868",
            "placeholder": "​",
            "style": "IPY_MODEL_1bee6b96ff944d17bda8bd73d86d453a",
            "value": "Downloading: 100%"
          }
        },
        "6aaa70409d244449864f1e5ae360ddbf": {
          "model_module": "@jupyter-widgets/controls",
          "model_name": "FloatProgressModel",
          "model_module_version": "1.5.0",
          "state": {
            "_dom_classes": [],
            "_model_module": "@jupyter-widgets/controls",
            "_model_module_version": "1.5.0",
            "_model_name": "FloatProgressModel",
            "_view_count": null,
            "_view_module": "@jupyter-widgets/controls",
            "_view_module_version": "1.5.0",
            "_view_name": "ProgressView",
            "bar_style": "success",
            "description": "",
            "description_tooltip": null,
            "layout": "IPY_MODEL_89afcf5ce6954312b94ebf69bf0e1019",
            "max": 1912529,
            "min": 0,
            "orientation": "horizontal",
            "style": "IPY_MODEL_ffabb78b695a404583e80fbc0e8058b6",
            "value": 1912529
          }
        },
        "aac98346e1404b06adebf0733b1f9e9f": {
          "model_module": "@jupyter-widgets/controls",
          "model_name": "HTMLModel",
          "model_module_version": "1.5.0",
          "state": {
            "_dom_classes": [],
            "_model_module": "@jupyter-widgets/controls",
            "_model_module_version": "1.5.0",
            "_model_name": "HTMLModel",
            "_view_count": null,
            "_view_module": "@jupyter-widgets/controls",
            "_view_module_version": "1.5.0",
            "_view_name": "HTMLView",
            "description": "",
            "description_tooltip": null,
            "layout": "IPY_MODEL_86dd56f14c1348db87b1d3c3001ab5ee",
            "placeholder": "​",
            "style": "IPY_MODEL_5c19ad1f36444936b8fd010b52ec07ce",
            "value": " 1.82M/1.82M [00:01&lt;00:00, 2.54MB/s]"
          }
        },
        "1033ab2d733a4fb1a29a39cbc25548c2": {
          "model_module": "@jupyter-widgets/base",
          "model_name": "LayoutModel",
          "model_module_version": "1.2.0",
          "state": {
            "_model_module": "@jupyter-widgets/base",
            "_model_module_version": "1.2.0",
            "_model_name": "LayoutModel",
            "_view_count": null,
            "_view_module": "@jupyter-widgets/base",
            "_view_module_version": "1.2.0",
            "_view_name": "LayoutView",
            "align_content": null,
            "align_items": null,
            "align_self": null,
            "border": null,
            "bottom": null,
            "display": null,
            "flex": null,
            "flex_flow": null,
            "grid_area": null,
            "grid_auto_columns": null,
            "grid_auto_flow": null,
            "grid_auto_rows": null,
            "grid_column": null,
            "grid_gap": null,
            "grid_row": null,
            "grid_template_areas": null,
            "grid_template_columns": null,
            "grid_template_rows": null,
            "height": null,
            "justify_content": null,
            "justify_items": null,
            "left": null,
            "margin": null,
            "max_height": null,
            "max_width": null,
            "min_height": null,
            "min_width": null,
            "object_fit": null,
            "object_position": null,
            "order": null,
            "overflow": null,
            "overflow_x": null,
            "overflow_y": null,
            "padding": null,
            "right": null,
            "top": null,
            "visibility": null,
            "width": null
          }
        },
        "61dee254500d4c7f9a4d9b1f06e4b868": {
          "model_module": "@jupyter-widgets/base",
          "model_name": "LayoutModel",
          "model_module_version": "1.2.0",
          "state": {
            "_model_module": "@jupyter-widgets/base",
            "_model_module_version": "1.2.0",
            "_model_name": "LayoutModel",
            "_view_count": null,
            "_view_module": "@jupyter-widgets/base",
            "_view_module_version": "1.2.0",
            "_view_name": "LayoutView",
            "align_content": null,
            "align_items": null,
            "align_self": null,
            "border": null,
            "bottom": null,
            "display": null,
            "flex": null,
            "flex_flow": null,
            "grid_area": null,
            "grid_auto_columns": null,
            "grid_auto_flow": null,
            "grid_auto_rows": null,
            "grid_column": null,
            "grid_gap": null,
            "grid_row": null,
            "grid_template_areas": null,
            "grid_template_columns": null,
            "grid_template_rows": null,
            "height": null,
            "justify_content": null,
            "justify_items": null,
            "left": null,
            "margin": null,
            "max_height": null,
            "max_width": null,
            "min_height": null,
            "min_width": null,
            "object_fit": null,
            "object_position": null,
            "order": null,
            "overflow": null,
            "overflow_x": null,
            "overflow_y": null,
            "padding": null,
            "right": null,
            "top": null,
            "visibility": null,
            "width": null
          }
        },
        "1bee6b96ff944d17bda8bd73d86d453a": {
          "model_module": "@jupyter-widgets/controls",
          "model_name": "DescriptionStyleModel",
          "model_module_version": "1.5.0",
          "state": {
            "_model_module": "@jupyter-widgets/controls",
            "_model_module_version": "1.5.0",
            "_model_name": "DescriptionStyleModel",
            "_view_count": null,
            "_view_module": "@jupyter-widgets/base",
            "_view_module_version": "1.2.0",
            "_view_name": "StyleView",
            "description_width": ""
          }
        },
        "89afcf5ce6954312b94ebf69bf0e1019": {
          "model_module": "@jupyter-widgets/base",
          "model_name": "LayoutModel",
          "model_module_version": "1.2.0",
          "state": {
            "_model_module": "@jupyter-widgets/base",
            "_model_module_version": "1.2.0",
            "_model_name": "LayoutModel",
            "_view_count": null,
            "_view_module": "@jupyter-widgets/base",
            "_view_module_version": "1.2.0",
            "_view_name": "LayoutView",
            "align_content": null,
            "align_items": null,
            "align_self": null,
            "border": null,
            "bottom": null,
            "display": null,
            "flex": null,
            "flex_flow": null,
            "grid_area": null,
            "grid_auto_columns": null,
            "grid_auto_flow": null,
            "grid_auto_rows": null,
            "grid_column": null,
            "grid_gap": null,
            "grid_row": null,
            "grid_template_areas": null,
            "grid_template_columns": null,
            "grid_template_rows": null,
            "height": null,
            "justify_content": null,
            "justify_items": null,
            "left": null,
            "margin": null,
            "max_height": null,
            "max_width": null,
            "min_height": null,
            "min_width": null,
            "object_fit": null,
            "object_position": null,
            "order": null,
            "overflow": null,
            "overflow_x": null,
            "overflow_y": null,
            "padding": null,
            "right": null,
            "top": null,
            "visibility": null,
            "width": null
          }
        },
        "ffabb78b695a404583e80fbc0e8058b6": {
          "model_module": "@jupyter-widgets/controls",
          "model_name": "ProgressStyleModel",
          "model_module_version": "1.5.0",
          "state": {
            "_model_module": "@jupyter-widgets/controls",
            "_model_module_version": "1.5.0",
            "_model_name": "ProgressStyleModel",
            "_view_count": null,
            "_view_module": "@jupyter-widgets/base",
            "_view_module_version": "1.2.0",
            "_view_name": "StyleView",
            "bar_color": null,
            "description_width": ""
          }
        },
        "86dd56f14c1348db87b1d3c3001ab5ee": {
          "model_module": "@jupyter-widgets/base",
          "model_name": "LayoutModel",
          "model_module_version": "1.2.0",
          "state": {
            "_model_module": "@jupyter-widgets/base",
            "_model_module_version": "1.2.0",
            "_model_name": "LayoutModel",
            "_view_count": null,
            "_view_module": "@jupyter-widgets/base",
            "_view_module_version": "1.2.0",
            "_view_name": "LayoutView",
            "align_content": null,
            "align_items": null,
            "align_self": null,
            "border": null,
            "bottom": null,
            "display": null,
            "flex": null,
            "flex_flow": null,
            "grid_area": null,
            "grid_auto_columns": null,
            "grid_auto_flow": null,
            "grid_auto_rows": null,
            "grid_column": null,
            "grid_gap": null,
            "grid_row": null,
            "grid_template_areas": null,
            "grid_template_columns": null,
            "grid_template_rows": null,
            "height": null,
            "justify_content": null,
            "justify_items": null,
            "left": null,
            "margin": null,
            "max_height": null,
            "max_width": null,
            "min_height": null,
            "min_width": null,
            "object_fit": null,
            "object_position": null,
            "order": null,
            "overflow": null,
            "overflow_x": null,
            "overflow_y": null,
            "padding": null,
            "right": null,
            "top": null,
            "visibility": null,
            "width": null
          }
        },
        "5c19ad1f36444936b8fd010b52ec07ce": {
          "model_module": "@jupyter-widgets/controls",
          "model_name": "DescriptionStyleModel",
          "model_module_version": "1.5.0",
          "state": {
            "_model_module": "@jupyter-widgets/controls",
            "_model_module_version": "1.5.0",
            "_model_name": "DescriptionStyleModel",
            "_view_count": null,
            "_view_module": "@jupyter-widgets/base",
            "_view_module_version": "1.2.0",
            "_view_name": "StyleView",
            "description_width": ""
          }
        },
        "ebcef5930b6e46769141cd2451ef874e": {
          "model_module": "@jupyter-widgets/controls",
          "model_name": "HBoxModel",
          "model_module_version": "1.5.0",
          "state": {
            "_dom_classes": [],
            "_model_module": "@jupyter-widgets/controls",
            "_model_module_version": "1.5.0",
            "_model_name": "HBoxModel",
            "_view_count": null,
            "_view_module": "@jupyter-widgets/controls",
            "_view_module_version": "1.5.0",
            "_view_name": "HBoxView",
            "box_style": "",
            "children": [
              "IPY_MODEL_8446d79a9652464b90162e28e33fc27b",
              "IPY_MODEL_8084b2c89fc847a8802f8ba47144a15f",
              "IPY_MODEL_a21a927539a749658933a42226033399"
            ],
            "layout": "IPY_MODEL_691248e3964f4466b84a9882a50cbad5"
          }
        },
        "8446d79a9652464b90162e28e33fc27b": {
          "model_module": "@jupyter-widgets/controls",
          "model_name": "HTMLModel",
          "model_module_version": "1.5.0",
          "state": {
            "_dom_classes": [],
            "_model_module": "@jupyter-widgets/controls",
            "_model_module_version": "1.5.0",
            "_model_name": "HTMLModel",
            "_view_count": null,
            "_view_module": "@jupyter-widgets/controls",
            "_view_module_version": "1.5.0",
            "_view_name": "HTMLView",
            "description": "",
            "description_tooltip": null,
            "layout": "IPY_MODEL_76c6fb460fab4dda97ea16c2e60238d8",
            "placeholder": "​",
            "style": "IPY_MODEL_75f33642adf34bfd9d7f2d7935d38f70",
            "value": "Downloading: 100%"
          }
        },
        "8084b2c89fc847a8802f8ba47144a15f": {
          "model_module": "@jupyter-widgets/controls",
          "model_name": "FloatProgressModel",
          "model_module_version": "1.5.0",
          "state": {
            "_dom_classes": [],
            "_model_module": "@jupyter-widgets/controls",
            "_model_module_version": "1.5.0",
            "_model_name": "FloatProgressModel",
            "_view_count": null,
            "_view_module": "@jupyter-widgets/controls",
            "_view_module_version": "1.5.0",
            "_view_name": "ProgressView",
            "bar_style": "success",
            "description": "",
            "description_tooltip": null,
            "layout": "IPY_MODEL_a0d63f5b9cff4e0fb6b85cbbb888e923",
            "max": 65,
            "min": 0,
            "orientation": "horizontal",
            "style": "IPY_MODEL_6f184c9bfe7c497792ca02c8283f2a7d",
            "value": 65
          }
        },
        "a21a927539a749658933a42226033399": {
          "model_module": "@jupyter-widgets/controls",
          "model_name": "HTMLModel",
          "model_module_version": "1.5.0",
          "state": {
            "_dom_classes": [],
            "_model_module": "@jupyter-widgets/controls",
            "_model_module_version": "1.5.0",
            "_model_name": "HTMLModel",
            "_view_count": null,
            "_view_module": "@jupyter-widgets/controls",
            "_view_module_version": "1.5.0",
            "_view_name": "HTMLView",
            "description": "",
            "description_tooltip": null,
            "layout": "IPY_MODEL_80bd4e838dc6405ba425de93425399e7",
            "placeholder": "​",
            "style": "IPY_MODEL_51b48dc795754d96bf6fd04e1b160b74",
            "value": " 65.0/65.0 [00:00&lt;00:00, 1.96kB/s]"
          }
        },
        "691248e3964f4466b84a9882a50cbad5": {
          "model_module": "@jupyter-widgets/base",
          "model_name": "LayoutModel",
          "model_module_version": "1.2.0",
          "state": {
            "_model_module": "@jupyter-widgets/base",
            "_model_module_version": "1.2.0",
            "_model_name": "LayoutModel",
            "_view_count": null,
            "_view_module": "@jupyter-widgets/base",
            "_view_module_version": "1.2.0",
            "_view_name": "LayoutView",
            "align_content": null,
            "align_items": null,
            "align_self": null,
            "border": null,
            "bottom": null,
            "display": null,
            "flex": null,
            "flex_flow": null,
            "grid_area": null,
            "grid_auto_columns": null,
            "grid_auto_flow": null,
            "grid_auto_rows": null,
            "grid_column": null,
            "grid_gap": null,
            "grid_row": null,
            "grid_template_areas": null,
            "grid_template_columns": null,
            "grid_template_rows": null,
            "height": null,
            "justify_content": null,
            "justify_items": null,
            "left": null,
            "margin": null,
            "max_height": null,
            "max_width": null,
            "min_height": null,
            "min_width": null,
            "object_fit": null,
            "object_position": null,
            "order": null,
            "overflow": null,
            "overflow_x": null,
            "overflow_y": null,
            "padding": null,
            "right": null,
            "top": null,
            "visibility": null,
            "width": null
          }
        },
        "76c6fb460fab4dda97ea16c2e60238d8": {
          "model_module": "@jupyter-widgets/base",
          "model_name": "LayoutModel",
          "model_module_version": "1.2.0",
          "state": {
            "_model_module": "@jupyter-widgets/base",
            "_model_module_version": "1.2.0",
            "_model_name": "LayoutModel",
            "_view_count": null,
            "_view_module": "@jupyter-widgets/base",
            "_view_module_version": "1.2.0",
            "_view_name": "LayoutView",
            "align_content": null,
            "align_items": null,
            "align_self": null,
            "border": null,
            "bottom": null,
            "display": null,
            "flex": null,
            "flex_flow": null,
            "grid_area": null,
            "grid_auto_columns": null,
            "grid_auto_flow": null,
            "grid_auto_rows": null,
            "grid_column": null,
            "grid_gap": null,
            "grid_row": null,
            "grid_template_areas": null,
            "grid_template_columns": null,
            "grid_template_rows": null,
            "height": null,
            "justify_content": null,
            "justify_items": null,
            "left": null,
            "margin": null,
            "max_height": null,
            "max_width": null,
            "min_height": null,
            "min_width": null,
            "object_fit": null,
            "object_position": null,
            "order": null,
            "overflow": null,
            "overflow_x": null,
            "overflow_y": null,
            "padding": null,
            "right": null,
            "top": null,
            "visibility": null,
            "width": null
          }
        },
        "75f33642adf34bfd9d7f2d7935d38f70": {
          "model_module": "@jupyter-widgets/controls",
          "model_name": "DescriptionStyleModel",
          "model_module_version": "1.5.0",
          "state": {
            "_model_module": "@jupyter-widgets/controls",
            "_model_module_version": "1.5.0",
            "_model_name": "DescriptionStyleModel",
            "_view_count": null,
            "_view_module": "@jupyter-widgets/base",
            "_view_module_version": "1.2.0",
            "_view_name": "StyleView",
            "description_width": ""
          }
        },
        "a0d63f5b9cff4e0fb6b85cbbb888e923": {
          "model_module": "@jupyter-widgets/base",
          "model_name": "LayoutModel",
          "model_module_version": "1.2.0",
          "state": {
            "_model_module": "@jupyter-widgets/base",
            "_model_module_version": "1.2.0",
            "_model_name": "LayoutModel",
            "_view_count": null,
            "_view_module": "@jupyter-widgets/base",
            "_view_module_version": "1.2.0",
            "_view_name": "LayoutView",
            "align_content": null,
            "align_items": null,
            "align_self": null,
            "border": null,
            "bottom": null,
            "display": null,
            "flex": null,
            "flex_flow": null,
            "grid_area": null,
            "grid_auto_columns": null,
            "grid_auto_flow": null,
            "grid_auto_rows": null,
            "grid_column": null,
            "grid_gap": null,
            "grid_row": null,
            "grid_template_areas": null,
            "grid_template_columns": null,
            "grid_template_rows": null,
            "height": null,
            "justify_content": null,
            "justify_items": null,
            "left": null,
            "margin": null,
            "max_height": null,
            "max_width": null,
            "min_height": null,
            "min_width": null,
            "object_fit": null,
            "object_position": null,
            "order": null,
            "overflow": null,
            "overflow_x": null,
            "overflow_y": null,
            "padding": null,
            "right": null,
            "top": null,
            "visibility": null,
            "width": null
          }
        },
        "6f184c9bfe7c497792ca02c8283f2a7d": {
          "model_module": "@jupyter-widgets/controls",
          "model_name": "ProgressStyleModel",
          "model_module_version": "1.5.0",
          "state": {
            "_model_module": "@jupyter-widgets/controls",
            "_model_module_version": "1.5.0",
            "_model_name": "ProgressStyleModel",
            "_view_count": null,
            "_view_module": "@jupyter-widgets/base",
            "_view_module_version": "1.2.0",
            "_view_name": "StyleView",
            "bar_color": null,
            "description_width": ""
          }
        },
        "80bd4e838dc6405ba425de93425399e7": {
          "model_module": "@jupyter-widgets/base",
          "model_name": "LayoutModel",
          "model_module_version": "1.2.0",
          "state": {
            "_model_module": "@jupyter-widgets/base",
            "_model_module_version": "1.2.0",
            "_model_name": "LayoutModel",
            "_view_count": null,
            "_view_module": "@jupyter-widgets/base",
            "_view_module_version": "1.2.0",
            "_view_name": "LayoutView",
            "align_content": null,
            "align_items": null,
            "align_self": null,
            "border": null,
            "bottom": null,
            "display": null,
            "flex": null,
            "flex_flow": null,
            "grid_area": null,
            "grid_auto_columns": null,
            "grid_auto_flow": null,
            "grid_auto_rows": null,
            "grid_column": null,
            "grid_gap": null,
            "grid_row": null,
            "grid_template_areas": null,
            "grid_template_columns": null,
            "grid_template_rows": null,
            "height": null,
            "justify_content": null,
            "justify_items": null,
            "left": null,
            "margin": null,
            "max_height": null,
            "max_width": null,
            "min_height": null,
            "min_width": null,
            "object_fit": null,
            "object_position": null,
            "order": null,
            "overflow": null,
            "overflow_x": null,
            "overflow_y": null,
            "padding": null,
            "right": null,
            "top": null,
            "visibility": null,
            "width": null
          }
        },
        "51b48dc795754d96bf6fd04e1b160b74": {
          "model_module": "@jupyter-widgets/controls",
          "model_name": "DescriptionStyleModel",
          "model_module_version": "1.5.0",
          "state": {
            "_model_module": "@jupyter-widgets/controls",
            "_model_module_version": "1.5.0",
            "_model_name": "DescriptionStyleModel",
            "_view_count": null,
            "_view_module": "@jupyter-widgets/base",
            "_view_module_version": "1.2.0",
            "_view_name": "StyleView",
            "description_width": ""
          }
        },
        "536308ac91a04aafbdbc55f21f0e08b1": {
          "model_module": "@jupyter-widgets/controls",
          "model_name": "HBoxModel",
          "model_module_version": "1.5.0",
          "state": {
            "_dom_classes": [],
            "_model_module": "@jupyter-widgets/controls",
            "_model_module_version": "1.5.0",
            "_model_name": "HBoxModel",
            "_view_count": null,
            "_view_module": "@jupyter-widgets/controls",
            "_view_module_version": "1.5.0",
            "_view_name": "HBoxView",
            "box_style": "",
            "children": [
              "IPY_MODEL_ea522b54a3844c7a82c26e6ab01e77df",
              "IPY_MODEL_9e06b55fec7745c4ad66f05d5785de5e",
              "IPY_MODEL_5010e6f73e1349108e91b032548d2a3e"
            ],
            "layout": "IPY_MODEL_4d2eed6bf7f94427a53f47798b016f90"
          }
        },
        "ea522b54a3844c7a82c26e6ab01e77df": {
          "model_module": "@jupyter-widgets/controls",
          "model_name": "HTMLModel",
          "model_module_version": "1.5.0",
          "state": {
            "_dom_classes": [],
            "_model_module": "@jupyter-widgets/controls",
            "_model_module_version": "1.5.0",
            "_model_name": "HTMLModel",
            "_view_count": null,
            "_view_module": "@jupyter-widgets/controls",
            "_view_module_version": "1.5.0",
            "_view_name": "HTMLView",
            "description": "",
            "description_tooltip": null,
            "layout": "IPY_MODEL_f9c1a5391b734ed4b8eecebab527950f",
            "placeholder": "​",
            "style": "IPY_MODEL_2b38a3859caf43218e5e832aa42cf82f",
            "value": "Downloading: 100%"
          }
        },
        "9e06b55fec7745c4ad66f05d5785de5e": {
          "model_module": "@jupyter-widgets/controls",
          "model_name": "FloatProgressModel",
          "model_module_version": "1.5.0",
          "state": {
            "_dom_classes": [],
            "_model_module": "@jupyter-widgets/controls",
            "_model_module_version": "1.5.0",
            "_model_name": "FloatProgressModel",
            "_view_count": null,
            "_view_module": "@jupyter-widgets/controls",
            "_view_module_version": "1.5.0",
            "_view_name": "ProgressView",
            "bar_style": "success",
            "description": "",
            "description_tooltip": null,
            "layout": "IPY_MODEL_155a02aa1b2e4150bc59cf07c5cd0612",
            "max": 88,
            "min": 0,
            "orientation": "horizontal",
            "style": "IPY_MODEL_243e590948d645d58a540951c9b56565",
            "value": 88
          }
        },
        "5010e6f73e1349108e91b032548d2a3e": {
          "model_module": "@jupyter-widgets/controls",
          "model_name": "HTMLModel",
          "model_module_version": "1.5.0",
          "state": {
            "_dom_classes": [],
            "_model_module": "@jupyter-widgets/controls",
            "_model_module_version": "1.5.0",
            "_model_name": "HTMLModel",
            "_view_count": null,
            "_view_module": "@jupyter-widgets/controls",
            "_view_module_version": "1.5.0",
            "_view_name": "HTMLView",
            "description": "",
            "description_tooltip": null,
            "layout": "IPY_MODEL_fa1c416615a640bda7d3ba855fea76a7",
            "placeholder": "​",
            "style": "IPY_MODEL_c99d5875f34d450e96100a98c3a8f3f3",
            "value": " 88.0/88.0 [00:00&lt;00:00, 2.57kB/s]"
          }
        },
        "4d2eed6bf7f94427a53f47798b016f90": {
          "model_module": "@jupyter-widgets/base",
          "model_name": "LayoutModel",
          "model_module_version": "1.2.0",
          "state": {
            "_model_module": "@jupyter-widgets/base",
            "_model_module_version": "1.2.0",
            "_model_name": "LayoutModel",
            "_view_count": null,
            "_view_module": "@jupyter-widgets/base",
            "_view_module_version": "1.2.0",
            "_view_name": "LayoutView",
            "align_content": null,
            "align_items": null,
            "align_self": null,
            "border": null,
            "bottom": null,
            "display": null,
            "flex": null,
            "flex_flow": null,
            "grid_area": null,
            "grid_auto_columns": null,
            "grid_auto_flow": null,
            "grid_auto_rows": null,
            "grid_column": null,
            "grid_gap": null,
            "grid_row": null,
            "grid_template_areas": null,
            "grid_template_columns": null,
            "grid_template_rows": null,
            "height": null,
            "justify_content": null,
            "justify_items": null,
            "left": null,
            "margin": null,
            "max_height": null,
            "max_width": null,
            "min_height": null,
            "min_width": null,
            "object_fit": null,
            "object_position": null,
            "order": null,
            "overflow": null,
            "overflow_x": null,
            "overflow_y": null,
            "padding": null,
            "right": null,
            "top": null,
            "visibility": null,
            "width": null
          }
        },
        "f9c1a5391b734ed4b8eecebab527950f": {
          "model_module": "@jupyter-widgets/base",
          "model_name": "LayoutModel",
          "model_module_version": "1.2.0",
          "state": {
            "_model_module": "@jupyter-widgets/base",
            "_model_module_version": "1.2.0",
            "_model_name": "LayoutModel",
            "_view_count": null,
            "_view_module": "@jupyter-widgets/base",
            "_view_module_version": "1.2.0",
            "_view_name": "LayoutView",
            "align_content": null,
            "align_items": null,
            "align_self": null,
            "border": null,
            "bottom": null,
            "display": null,
            "flex": null,
            "flex_flow": null,
            "grid_area": null,
            "grid_auto_columns": null,
            "grid_auto_flow": null,
            "grid_auto_rows": null,
            "grid_column": null,
            "grid_gap": null,
            "grid_row": null,
            "grid_template_areas": null,
            "grid_template_columns": null,
            "grid_template_rows": null,
            "height": null,
            "justify_content": null,
            "justify_items": null,
            "left": null,
            "margin": null,
            "max_height": null,
            "max_width": null,
            "min_height": null,
            "min_width": null,
            "object_fit": null,
            "object_position": null,
            "order": null,
            "overflow": null,
            "overflow_x": null,
            "overflow_y": null,
            "padding": null,
            "right": null,
            "top": null,
            "visibility": null,
            "width": null
          }
        },
        "2b38a3859caf43218e5e832aa42cf82f": {
          "model_module": "@jupyter-widgets/controls",
          "model_name": "DescriptionStyleModel",
          "model_module_version": "1.5.0",
          "state": {
            "_model_module": "@jupyter-widgets/controls",
            "_model_module_version": "1.5.0",
            "_model_name": "DescriptionStyleModel",
            "_view_count": null,
            "_view_module": "@jupyter-widgets/base",
            "_view_module_version": "1.2.0",
            "_view_name": "StyleView",
            "description_width": ""
          }
        },
        "155a02aa1b2e4150bc59cf07c5cd0612": {
          "model_module": "@jupyter-widgets/base",
          "model_name": "LayoutModel",
          "model_module_version": "1.2.0",
          "state": {
            "_model_module": "@jupyter-widgets/base",
            "_model_module_version": "1.2.0",
            "_model_name": "LayoutModel",
            "_view_count": null,
            "_view_module": "@jupyter-widgets/base",
            "_view_module_version": "1.2.0",
            "_view_name": "LayoutView",
            "align_content": null,
            "align_items": null,
            "align_self": null,
            "border": null,
            "bottom": null,
            "display": null,
            "flex": null,
            "flex_flow": null,
            "grid_area": null,
            "grid_auto_columns": null,
            "grid_auto_flow": null,
            "grid_auto_rows": null,
            "grid_column": null,
            "grid_gap": null,
            "grid_row": null,
            "grid_template_areas": null,
            "grid_template_columns": null,
            "grid_template_rows": null,
            "height": null,
            "justify_content": null,
            "justify_items": null,
            "left": null,
            "margin": null,
            "max_height": null,
            "max_width": null,
            "min_height": null,
            "min_width": null,
            "object_fit": null,
            "object_position": null,
            "order": null,
            "overflow": null,
            "overflow_x": null,
            "overflow_y": null,
            "padding": null,
            "right": null,
            "top": null,
            "visibility": null,
            "width": null
          }
        },
        "243e590948d645d58a540951c9b56565": {
          "model_module": "@jupyter-widgets/controls",
          "model_name": "ProgressStyleModel",
          "model_module_version": "1.5.0",
          "state": {
            "_model_module": "@jupyter-widgets/controls",
            "_model_module_version": "1.5.0",
            "_model_name": "ProgressStyleModel",
            "_view_count": null,
            "_view_module": "@jupyter-widgets/base",
            "_view_module_version": "1.2.0",
            "_view_name": "StyleView",
            "bar_color": null,
            "description_width": ""
          }
        },
        "fa1c416615a640bda7d3ba855fea76a7": {
          "model_module": "@jupyter-widgets/base",
          "model_name": "LayoutModel",
          "model_module_version": "1.2.0",
          "state": {
            "_model_module": "@jupyter-widgets/base",
            "_model_module_version": "1.2.0",
            "_model_name": "LayoutModel",
            "_view_count": null,
            "_view_module": "@jupyter-widgets/base",
            "_view_module_version": "1.2.0",
            "_view_name": "LayoutView",
            "align_content": null,
            "align_items": null,
            "align_self": null,
            "border": null,
            "bottom": null,
            "display": null,
            "flex": null,
            "flex_flow": null,
            "grid_area": null,
            "grid_auto_columns": null,
            "grid_auto_flow": null,
            "grid_auto_rows": null,
            "grid_column": null,
            "grid_gap": null,
            "grid_row": null,
            "grid_template_areas": null,
            "grid_template_columns": null,
            "grid_template_rows": null,
            "height": null,
            "justify_content": null,
            "justify_items": null,
            "left": null,
            "margin": null,
            "max_height": null,
            "max_width": null,
            "min_height": null,
            "min_width": null,
            "object_fit": null,
            "object_position": null,
            "order": null,
            "overflow": null,
            "overflow_x": null,
            "overflow_y": null,
            "padding": null,
            "right": null,
            "top": null,
            "visibility": null,
            "width": null
          }
        },
        "c99d5875f34d450e96100a98c3a8f3f3": {
          "model_module": "@jupyter-widgets/controls",
          "model_name": "DescriptionStyleModel",
          "model_module_version": "1.5.0",
          "state": {
            "_model_module": "@jupyter-widgets/controls",
            "_model_module_version": "1.5.0",
            "_model_name": "DescriptionStyleModel",
            "_view_count": null,
            "_view_module": "@jupyter-widgets/base",
            "_view_module_version": "1.2.0",
            "_view_name": "StyleView",
            "description_width": ""
          }
        }
      }
    }
  },
  "cells": [
    {
      "cell_type": "markdown",
      "metadata": {
        "id": "view-in-github",
        "colab_type": "text"
      },
      "source": [
        "<a href=\"https://colab.research.google.com/github/girishsenthil/NLP/blob/main/PegasusForYouTubeVideoSummarization.ipynb\" target=\"_parent\"><img src=\"https://colab.research.google.com/assets/colab-badge.svg\" alt=\"Open In Colab\"/></a>"
      ]
    },
    {
      "cell_type": "markdown",
      "source": [
        "# Pegasus Summarization Model for YouTube Movie Summary Channels"
      ],
      "metadata": {
        "id": "wyfCKrR2z8Ha"
      }
    },
    {
      "cell_type": "markdown",
      "source": [
        "\n",
        "Learned a lot about API manipulation and overall data processing, and especially the Pegasus Model functionality. \n",
        "\n",
        "I wanted to be able to create an effective way to summarize YouTube Transcripts using NLG Models, with Pegasus being the most popular and effective model currently. \n",
        "\n",
        "In the process of making this notebook I had to troubleshoot GPU memory issues, however reducing max_embedding size proved to be the most effective method to reduce GPU memory requirements."
      ],
      "metadata": {
        "id": "HCZJZ7r20HQ1"
      }
    },
    {
      "cell_type": "markdown",
      "source": [
        "## Imports"
      ],
      "metadata": {
        "id": "OTsaKweKaBww"
      }
    },
    {
      "cell_type": "code",
      "source": [
        "from google.colab import drive\n",
        "drive.mount('/content/drive')"
      ],
      "metadata": {
        "colab": {
          "base_uri": "https://localhost:8080/"
        },
        "id": "vY6Tlm5XI3b5",
        "outputId": "cc5d08e2-2bc9-4148-e071-e45595c0999f"
      },
      "execution_count": 9,
      "outputs": [
        {
          "output_type": "stream",
          "name": "stdout",
          "text": [
            "Drive already mounted at /content/drive; to attempt to forcibly remount, call drive.mount(\"/content/drive\", force_remount=True).\n"
          ]
        }
      ]
    },
    {
      "cell_type": "code",
      "execution_count": 1,
      "metadata": {
        "colab": {
          "base_uri": "https://localhost:8080/"
        },
        "id": "Rap1OH2hALVr",
        "outputId": "209322b6-ac49-40cf-87e4-9b6aab7b942f"
      },
      "outputs": [
        {
          "output_type": "stream",
          "name": "stdout",
          "text": [
            "Looking in indexes: https://pypi.org/simple, https://us-python.pkg.dev/colab-wheels/public/simple/\n",
            "Collecting transformers\n",
            "  Downloading transformers-4.20.1-py3-none-any.whl (4.4 MB)\n",
            "\u001b[K     |████████████████████████████████| 4.4 MB 4.3 MB/s \n",
            "\u001b[?25hRequirement already satisfied: requests in /usr/local/lib/python3.7/dist-packages (from transformers) (2.23.0)\n",
            "Requirement already satisfied: tqdm>=4.27 in /usr/local/lib/python3.7/dist-packages (from transformers) (4.64.0)\n",
            "Requirement already satisfied: filelock in /usr/local/lib/python3.7/dist-packages (from transformers) (3.7.1)\n",
            "Collecting pyyaml>=5.1\n",
            "  Downloading PyYAML-6.0-cp37-cp37m-manylinux_2_5_x86_64.manylinux1_x86_64.manylinux_2_12_x86_64.manylinux2010_x86_64.whl (596 kB)\n",
            "\u001b[K     |████████████████████████████████| 596 kB 61.9 MB/s \n",
            "\u001b[?25hRequirement already satisfied: regex!=2019.12.17 in /usr/local/lib/python3.7/dist-packages (from transformers) (2022.6.2)\n",
            "Requirement already satisfied: importlib-metadata in /usr/local/lib/python3.7/dist-packages (from transformers) (4.12.0)\n",
            "Collecting tokenizers!=0.11.3,<0.13,>=0.11.1\n",
            "  Downloading tokenizers-0.12.1-cp37-cp37m-manylinux_2_12_x86_64.manylinux2010_x86_64.whl (6.6 MB)\n",
            "\u001b[K     |████████████████████████████████| 6.6 MB 53.6 MB/s \n",
            "\u001b[?25hCollecting huggingface-hub<1.0,>=0.1.0\n",
            "  Downloading huggingface_hub-0.8.1-py3-none-any.whl (101 kB)\n",
            "\u001b[K     |████████████████████████████████| 101 kB 14.4 MB/s \n",
            "\u001b[?25hRequirement already satisfied: packaging>=20.0 in /usr/local/lib/python3.7/dist-packages (from transformers) (21.3)\n",
            "Requirement already satisfied: numpy>=1.17 in /usr/local/lib/python3.7/dist-packages (from transformers) (1.21.6)\n",
            "Requirement already satisfied: typing-extensions>=3.7.4.3 in /usr/local/lib/python3.7/dist-packages (from huggingface-hub<1.0,>=0.1.0->transformers) (4.1.1)\n",
            "Requirement already satisfied: pyparsing!=3.0.5,>=2.0.2 in /usr/local/lib/python3.7/dist-packages (from packaging>=20.0->transformers) (3.0.9)\n",
            "Requirement already satisfied: zipp>=0.5 in /usr/local/lib/python3.7/dist-packages (from importlib-metadata->transformers) (3.8.1)\n",
            "Requirement already satisfied: certifi>=2017.4.17 in /usr/local/lib/python3.7/dist-packages (from requests->transformers) (2022.6.15)\n",
            "Requirement already satisfied: idna<3,>=2.5 in /usr/local/lib/python3.7/dist-packages (from requests->transformers) (2.10)\n",
            "Requirement already satisfied: chardet<4,>=3.0.2 in /usr/local/lib/python3.7/dist-packages (from requests->transformers) (3.0.4)\n",
            "Requirement already satisfied: urllib3!=1.25.0,!=1.25.1,<1.26,>=1.21.1 in /usr/local/lib/python3.7/dist-packages (from requests->transformers) (1.24.3)\n",
            "Installing collected packages: pyyaml, tokenizers, huggingface-hub, transformers\n",
            "  Attempting uninstall: pyyaml\n",
            "    Found existing installation: PyYAML 3.13\n",
            "    Uninstalling PyYAML-3.13:\n",
            "      Successfully uninstalled PyYAML-3.13\n",
            "Successfully installed huggingface-hub-0.8.1 pyyaml-6.0 tokenizers-0.12.1 transformers-4.20.1\n"
          ]
        }
      ],
      "source": [
        "!pip install transformers"
      ]
    },
    {
      "cell_type": "code",
      "source": [
        "!pip install sentencepiece"
      ],
      "metadata": {
        "colab": {
          "base_uri": "https://localhost:8080/"
        },
        "id": "exwOEinQBOvo",
        "outputId": "4a4d56fc-c4e7-4648-d6f7-209f239099fc"
      },
      "execution_count": 2,
      "outputs": [
        {
          "output_type": "stream",
          "name": "stdout",
          "text": [
            "Looking in indexes: https://pypi.org/simple, https://us-python.pkg.dev/colab-wheels/public/simple/\n",
            "Collecting sentencepiece\n",
            "  Downloading sentencepiece-0.1.96-cp37-cp37m-manylinux_2_17_x86_64.manylinux2014_x86_64.whl (1.2 MB)\n",
            "\u001b[K     |████████████████████████████████| 1.2 MB 4.3 MB/s \n",
            "\u001b[?25hInstalling collected packages: sentencepiece\n",
            "Successfully installed sentencepiece-0.1.96\n"
          ]
        }
      ]
    },
    {
      "cell_type": "code",
      "source": [
        "!pip install youtube-transcript-api"
      ],
      "metadata": {
        "colab": {
          "base_uri": "https://localhost:8080/"
        },
        "id": "NnA4zvEsBQED",
        "outputId": "6d245c3f-c455-43cb-dc71-ffc55e9575ad"
      },
      "execution_count": 3,
      "outputs": [
        {
          "output_type": "stream",
          "name": "stdout",
          "text": [
            "Looking in indexes: https://pypi.org/simple, https://us-python.pkg.dev/colab-wheels/public/simple/\n",
            "Collecting youtube-transcript-api\n",
            "  Downloading youtube_transcript_api-0.4.4-py3-none-any.whl (22 kB)\n",
            "Requirement already satisfied: requests in /usr/local/lib/python3.7/dist-packages (from youtube-transcript-api) (2.23.0)\n",
            "Requirement already satisfied: certifi>=2017.4.17 in /usr/local/lib/python3.7/dist-packages (from requests->youtube-transcript-api) (2022.6.15)\n",
            "Requirement already satisfied: chardet<4,>=3.0.2 in /usr/local/lib/python3.7/dist-packages (from requests->youtube-transcript-api) (3.0.4)\n",
            "Requirement already satisfied: urllib3!=1.25.0,!=1.25.1,<1.26,>=1.21.1 in /usr/local/lib/python3.7/dist-packages (from requests->youtube-transcript-api) (1.24.3)\n",
            "Requirement already satisfied: idna<3,>=2.5 in /usr/local/lib/python3.7/dist-packages (from requests->youtube-transcript-api) (2.10)\n",
            "Installing collected packages: youtube-transcript-api\n",
            "Successfully installed youtube-transcript-api-0.4.4\n"
          ]
        }
      ]
    },
    {
      "cell_type": "code",
      "source": [
        "!pip install accelerate"
      ],
      "metadata": {
        "colab": {
          "base_uri": "https://localhost:8080/"
        },
        "id": "gq20M6Q_H51U",
        "outputId": "f425e543-d87e-42ee-a695-460819795911"
      },
      "execution_count": 169,
      "outputs": [
        {
          "output_type": "stream",
          "name": "stdout",
          "text": [
            "Looking in indexes: https://pypi.org/simple, https://us-python.pkg.dev/colab-wheels/public/simple/\n",
            "Collecting accelerate\n",
            "  Downloading accelerate-0.11.0-py3-none-any.whl (123 kB)\n",
            "\u001b[K     |████████████████████████████████| 123 kB 4.2 MB/s \n",
            "\u001b[?25hRequirement already satisfied: torch>=1.4.0 in /usr/local/lib/python3.7/dist-packages (from accelerate) (1.12.0+cu113)\n",
            "Requirement already satisfied: numpy>=1.17 in /usr/local/lib/python3.7/dist-packages (from accelerate) (1.21.6)\n",
            "Requirement already satisfied: psutil in /usr/local/lib/python3.7/dist-packages (from accelerate) (5.4.8)\n",
            "Requirement already satisfied: packaging>=20.0 in /usr/local/lib/python3.7/dist-packages (from accelerate) (21.3)\n",
            "Requirement already satisfied: pyyaml in /usr/local/lib/python3.7/dist-packages (from accelerate) (6.0)\n",
            "Requirement already satisfied: pyparsing!=3.0.5,>=2.0.2 in /usr/local/lib/python3.7/dist-packages (from packaging>=20.0->accelerate) (3.0.9)\n",
            "Requirement already satisfied: typing-extensions in /usr/local/lib/python3.7/dist-packages (from torch>=1.4.0->accelerate) (4.1.1)\n",
            "Installing collected packages: accelerate\n",
            "Successfully installed accelerate-0.11.0\n"
          ]
        }
      ]
    },
    {
      "cell_type": "code",
      "source": [
        "!pip install rouge-score"
      ],
      "metadata": {
        "colab": {
          "base_uri": "https://localhost:8080/"
        },
        "id": "y4t947W9VDLD",
        "outputId": "4aa89b04-4c99-4513-d3bf-05c48267331f"
      },
      "execution_count": 207,
      "outputs": [
        {
          "output_type": "stream",
          "name": "stdout",
          "text": [
            "Looking in indexes: https://pypi.org/simple, https://us-python.pkg.dev/colab-wheels/public/simple/\n",
            "Collecting rouge-score\n",
            "  Downloading rouge_score-0.1.2.tar.gz (17 kB)\n",
            "Requirement already satisfied: absl-py in /usr/local/lib/python3.7/dist-packages (from rouge-score) (1.2.0)\n",
            "Requirement already satisfied: nltk in /usr/local/lib/python3.7/dist-packages (from rouge-score) (3.7)\n",
            "Requirement already satisfied: numpy in /usr/local/lib/python3.7/dist-packages (from rouge-score) (1.21.6)\n",
            "Requirement already satisfied: six>=1.14.0 in /usr/local/lib/python3.7/dist-packages (from rouge-score) (1.15.0)\n",
            "Requirement already satisfied: click in /usr/local/lib/python3.7/dist-packages (from nltk->rouge-score) (7.1.2)\n",
            "Requirement already satisfied: joblib in /usr/local/lib/python3.7/dist-packages (from nltk->rouge-score) (1.1.0)\n",
            "Requirement already satisfied: regex>=2021.8.3 in /usr/local/lib/python3.7/dist-packages (from nltk->rouge-score) (2022.6.2)\n",
            "Requirement already satisfied: tqdm in /usr/local/lib/python3.7/dist-packages (from nltk->rouge-score) (4.64.0)\n",
            "Building wheels for collected packages: rouge-score\n",
            "  Building wheel for rouge-score (setup.py) ... \u001b[?25l\u001b[?25hdone\n",
            "  Created wheel for rouge-score: filename=rouge_score-0.1.2-py3-none-any.whl size=24955 sha256=22446cb553b58092b57e05a539d67bcc7881fddce23fc83a48d0e45bfc820166\n",
            "  Stored in directory: /root/.cache/pip/wheels/84/ac/6b/38096e3c5bf1dc87911e3585875e21a3ac610348e740409c76\n",
            "Successfully built rouge-score\n",
            "Installing collected packages: rouge-score\n",
            "Successfully installed rouge-score-0.1.2\n"
          ]
        }
      ]
    },
    {
      "cell_type": "code",
      "source": [
        "import json\n",
        "import urllib\n",
        "from urllib import request, parse"
      ],
      "metadata": {
        "id": "rS0z0a_YMV0O"
      },
      "execution_count": 4,
      "outputs": []
    },
    {
      "cell_type": "code",
      "source": [
        "import torch\n",
        "import transformers\n",
        "from transformers import PegasusTokenizer, PegasusForConditionalGeneration, Trainer, TrainingArguments"
      ],
      "metadata": {
        "id": "XbRyhx5mBTqT"
      },
      "execution_count": 5,
      "outputs": []
    },
    {
      "cell_type": "code",
      "source": [
        "from torch.utils.data import TensorDataset, DataLoader, RandomSampler, SequentialSampler"
      ],
      "metadata": {
        "id": "eESWwyVvx7WY"
      },
      "execution_count": 6,
      "outputs": []
    },
    {
      "cell_type": "code",
      "source": [
        "from youtube_transcript_api import YouTubeTranscriptApi"
      ],
      "metadata": {
        "id": "X0t2Td9COApM"
      },
      "execution_count": 7,
      "outputs": []
    },
    {
      "cell_type": "code",
      "source": [
        "import pandas as pd, numpy as np\n",
        "import re\n",
        "from sklearn.model_selection import train_test_split\n",
        "from tqdm import tqdm"
      ],
      "metadata": {
        "id": "pEhdhExfpdhz"
      },
      "execution_count": 8,
      "outputs": []
    },
    {
      "cell_type": "code",
      "source": [
        "config = transformers.PegasusConfig"
      ],
      "metadata": {
        "id": "0gjYOORfBhtQ"
      },
      "execution_count": 10,
      "outputs": []
    },
    {
      "cell_type": "code",
      "source": [
        "device = 'cuda' if torch.cuda.is_available() else 'cpu'"
      ],
      "metadata": {
        "id": "mqGFBBmCCnzs"
      },
      "execution_count": 11,
      "outputs": []
    },
    {
      "cell_type": "code",
      "source": [
        "model = PegasusForConditionalGeneration.from_pretrained('google/pegasus-large', max_position_embeddings = 512)"
      ],
      "metadata": {
        "id": "leRc4a_CCOjK",
        "colab": {
          "base_uri": "https://localhost:8080/",
          "height": 81,
          "referenced_widgets": [
            "dcce47a2688f4b55997dd6fb269c864e",
            "27a6a35734494334b303c6cddc760a97",
            "d946832353034ef69d5389567a732ce6",
            "acb0893dd54448d59e682cbc0d1c74aa",
            "041fce2d02a04f7395e65c672a88a6e2",
            "53840df1706842a09d01601b0a36e183",
            "f3d418e225cd4470a92d575934f03170",
            "2aff524924cb4f5387849860158e6e50",
            "c88c7f8e47d342c7b314350e7f8ca97b",
            "0057b37714bb474cbf0e457a05e16bdf",
            "13411fd693d8442888605648faea5c64",
            "7b872b298ca34b61ad335b97d7f90e84",
            "9d1fabe7551e4a4db7eb11a41602ec8e",
            "9287597a341c49d9baa07be563cc976e",
            "b083748e44a9405ebc0369fd7764b1f1",
            "4f94b8ca63204ea2a0ac655ad113b759",
            "e05c2bd56aef4b6887c5fb97415a3ace",
            "c969b076074c414aa0873d74838f3bf4",
            "a47e90eda831464a9b2af78bb5dc4d2f",
            "9f018d5c7dc44737bb7bef258a973a2a",
            "54deb23601ca40e990b5bc14eba2e1a8",
            "f22948845a424de2888fb462e48f1f63"
          ]
        },
        "outputId": "022a02aa-d109-431a-eb17-ae85d1743ffa"
      },
      "execution_count": 12,
      "outputs": [
        {
          "output_type": "display_data",
          "data": {
            "text/plain": [
              "Downloading:   0%|          | 0.00/3.02k [00:00<?, ?B/s]"
            ],
            "application/vnd.jupyter.widget-view+json": {
              "version_major": 2,
              "version_minor": 0,
              "model_id": "dcce47a2688f4b55997dd6fb269c864e"
            }
          },
          "metadata": {}
        },
        {
          "output_type": "display_data",
          "data": {
            "text/plain": [
              "Downloading:   0%|          | 0.00/2.12G [00:00<?, ?B/s]"
            ],
            "application/vnd.jupyter.widget-view+json": {
              "version_major": 2,
              "version_minor": 0,
              "model_id": "7b872b298ca34b61ad335b97d7f90e84"
            }
          },
          "metadata": {}
        }
      ]
    },
    {
      "cell_type": "code",
      "source": [
        "model.to(device)"
      ],
      "metadata": {
        "id": "cXNZJCrYUyyH"
      },
      "execution_count": null,
      "outputs": []
    },
    {
      "cell_type": "code",
      "source": [
        "tokenizer = PegasusTokenizer.from_pretrained('google/pegasus-large')"
      ],
      "metadata": {
        "id": "IkTMNPvqCtm9",
        "colab": {
          "base_uri": "https://localhost:8080/",
          "height": 113,
          "referenced_widgets": [
            "0a40602997354d5fa992576e2c7f8285",
            "e7842b24372e49a2b0d46ff31854b418",
            "6aaa70409d244449864f1e5ae360ddbf",
            "aac98346e1404b06adebf0733b1f9e9f",
            "1033ab2d733a4fb1a29a39cbc25548c2",
            "61dee254500d4c7f9a4d9b1f06e4b868",
            "1bee6b96ff944d17bda8bd73d86d453a",
            "89afcf5ce6954312b94ebf69bf0e1019",
            "ffabb78b695a404583e80fbc0e8058b6",
            "86dd56f14c1348db87b1d3c3001ab5ee",
            "5c19ad1f36444936b8fd010b52ec07ce",
            "ebcef5930b6e46769141cd2451ef874e",
            "8446d79a9652464b90162e28e33fc27b",
            "8084b2c89fc847a8802f8ba47144a15f",
            "a21a927539a749658933a42226033399",
            "691248e3964f4466b84a9882a50cbad5",
            "76c6fb460fab4dda97ea16c2e60238d8",
            "75f33642adf34bfd9d7f2d7935d38f70",
            "a0d63f5b9cff4e0fb6b85cbbb888e923",
            "6f184c9bfe7c497792ca02c8283f2a7d",
            "80bd4e838dc6405ba425de93425399e7",
            "51b48dc795754d96bf6fd04e1b160b74",
            "536308ac91a04aafbdbc55f21f0e08b1",
            "ea522b54a3844c7a82c26e6ab01e77df",
            "9e06b55fec7745c4ad66f05d5785de5e",
            "5010e6f73e1349108e91b032548d2a3e",
            "4d2eed6bf7f94427a53f47798b016f90",
            "f9c1a5391b734ed4b8eecebab527950f",
            "2b38a3859caf43218e5e832aa42cf82f",
            "155a02aa1b2e4150bc59cf07c5cd0612",
            "243e590948d645d58a540951c9b56565",
            "fa1c416615a640bda7d3ba855fea76a7",
            "c99d5875f34d450e96100a98c3a8f3f3"
          ]
        },
        "outputId": "4bb831c5-f9db-4db0-b9ab-39faa1e99a5a"
      },
      "execution_count": 14,
      "outputs": [
        {
          "output_type": "display_data",
          "data": {
            "text/plain": [
              "Downloading:   0%|          | 0.00/1.82M [00:00<?, ?B/s]"
            ],
            "application/vnd.jupyter.widget-view+json": {
              "version_major": 2,
              "version_minor": 0,
              "model_id": "0a40602997354d5fa992576e2c7f8285"
            }
          },
          "metadata": {}
        },
        {
          "output_type": "display_data",
          "data": {
            "text/plain": [
              "Downloading:   0%|          | 0.00/65.0 [00:00<?, ?B/s]"
            ],
            "application/vnd.jupyter.widget-view+json": {
              "version_major": 2,
              "version_minor": 0,
              "model_id": "ebcef5930b6e46769141cd2451ef874e"
            }
          },
          "metadata": {}
        },
        {
          "output_type": "display_data",
          "data": {
            "text/plain": [
              "Downloading:   0%|          | 0.00/88.0 [00:00<?, ?B/s]"
            ],
            "application/vnd.jupyter.widget-view+json": {
              "version_major": 2,
              "version_minor": 0,
              "model_id": "536308ac91a04aafbdbc55f21f0e08b1"
            }
          },
          "metadata": {}
        }
      ]
    },
    {
      "cell_type": "markdown",
      "source": [
        "## Retrieving Text Data from Movie Recaps Channel"
      ],
      "metadata": {
        "id": "SgqjfNnfOhK9"
      }
    },
    {
      "cell_type": "markdown",
      "source": [
        "I am using the Movie Recaps channel as it follows an extremely consistent format across all videos, similar to how a research paper follows a similar format of abstract > methods > results > discussion\n",
        "\n",
        "Using a YouTube API created through the Google Cloud Platform, I will query the videos in json format and create a dataframe containing videoID, video title, description, and cleaned transcript.\n",
        "\n",
        "If you are using this notebook, ensure that you have your own API Key to use with querying videos from your desired playlist"
      ],
      "metadata": {
        "id": "2E7SofGUQ7v4"
      }
    },
    {
      "cell_type": "code",
      "source": [
        "api_key = 'Your API Key HERE'\n",
        "playlist_id = 'UUyXD1jAZBdZ4u0K-GLYC77Q'"
      ],
      "metadata": {
        "id": "unH6-wlhOgt-"
      },
      "execution_count": 13,
      "outputs": []
    },
    {
      "cell_type": "markdown",
      "source": [
        "### Investigating the JSON outputs"
      ],
      "metadata": {
        "id": "_DJjRNABih7w"
      }
    },
    {
      "cell_type": "code",
      "source": [
        "with request.urlopen(f'https://www.googleapis.com/youtube/v3/playlistItems?part=snippet,contentDetails&maxResults=5&playlistId=UUyXD1jAZBdZ4u0K-GLYC77Q&key={api_key}') as url:\n",
        "  data = json.loads(url.read().decode())\n",
        "  print(data)\n"
      ],
      "metadata": {
        "colab": {
          "base_uri": "https://localhost:8080/"
        },
        "id": "AKpVwCnrcTc6",
        "outputId": "a3d55fdc-e7c7-404b-d753-354145ca9cd1"
      },
      "execution_count": 19,
      "outputs": [
        {
          "output_type": "stream",
          "name": "stdout",
          "text": [
            "{'kind': 'youtube#playlistItemListResponse', 'etag': 'b_RjtxkTxk5xULiUhuZqaTLeEVs', 'nextPageToken': 'EAAaBlBUOkNBVQ', 'items': [{'kind': 'youtube#playlistItem', 'etag': 'lAu6bolSfb0eqgOccz2upzKOyLI', 'id': 'VVV5WEQxakFaQmRaNHUwSy1HTFlDNzdRLnc5Zzl5ZUhjX0h3', 'snippet': {'publishedAt': '2022-07-22T20:45:43Z', 'channelId': 'UCyXD1jAZBdZ4u0K-GLYC77Q', 'title': 'Girl Must Wear 25 Kg Iron Shoes Everyday to Avoid Floating Away', 'description': \"A teenager follows his grandfather's stories to find a secret house filled with superpowered children that he must protect because he's the only one that can see the monsters chasing them.\\n\\n\\n\\n\\n\\n\\nSubscribe to our friends channel: https://tinyurl.com/Movie-Recaps\", 'thumbnails': {'default': {'url': 'https://i.ytimg.com/vi/w9g9yeHc_Hw/default.jpg', 'width': 120, 'height': 90}, 'medium': {'url': 'https://i.ytimg.com/vi/w9g9yeHc_Hw/mqdefault.jpg', 'width': 320, 'height': 180}, 'high': {'url': 'https://i.ytimg.com/vi/w9g9yeHc_Hw/hqdefault.jpg', 'width': 480, 'height': 360}}, 'channelTitle': 'Movie Recaps', 'playlistId': 'UUyXD1jAZBdZ4u0K-GLYC77Q', 'position': 0, 'resourceId': {'kind': 'youtube#video', 'videoId': 'w9g9yeHc_Hw'}, 'videoOwnerChannelTitle': 'Movie Recaps', 'videoOwnerChannelId': 'UCyXD1jAZBdZ4u0K-GLYC77Q'}, 'contentDetails': {'videoId': 'w9g9yeHc_Hw', 'videoPublishedAt': '2022-07-22T20:45:43Z'}}, {'kind': 'youtube#playlistItem', 'etag': 'tm6UX6HoxxLy8nce14v1s-Zt-vs', 'id': 'VVV5WEQxakFaQmRaNHUwSy1HTFlDNzdRLmYwNmtwYVZZVUVN', 'snippet': {'publishedAt': '2022-07-21T19:39:19Z', 'channelId': 'UCyXD1jAZBdZ4u0K-GLYC77Q', 'title': 'Before Being Discharged, 3 US Soldiers Discover a Stash of Gold Worth Billions', 'description': 'At the end of the Gulf War, a group of American soldiers gets in serious trouble when they find a map that will take them to the stolen gold from Kuwait.\\n\\n\\n\\n\\n\\n\\nSubscribe to our friends channel: https://tinyurl.com/Movie-Recaps', 'thumbnails': {'default': {'url': 'https://i.ytimg.com/vi/f06kpaVYUEM/default.jpg', 'width': 120, 'height': 90}, 'medium': {'url': 'https://i.ytimg.com/vi/f06kpaVYUEM/mqdefault.jpg', 'width': 320, 'height': 180}, 'high': {'url': 'https://i.ytimg.com/vi/f06kpaVYUEM/hqdefault.jpg', 'width': 480, 'height': 360}, 'standard': {'url': 'https://i.ytimg.com/vi/f06kpaVYUEM/sddefault.jpg', 'width': 640, 'height': 480}, 'maxres': {'url': 'https://i.ytimg.com/vi/f06kpaVYUEM/maxresdefault.jpg', 'width': 1280, 'height': 720}}, 'channelTitle': 'Movie Recaps', 'playlistId': 'UUyXD1jAZBdZ4u0K-GLYC77Q', 'position': 1, 'resourceId': {'kind': 'youtube#video', 'videoId': 'f06kpaVYUEM'}, 'videoOwnerChannelTitle': 'Movie Recaps', 'videoOwnerChannelId': 'UCyXD1jAZBdZ4u0K-GLYC77Q'}, 'contentDetails': {'videoId': 'f06kpaVYUEM', 'videoPublishedAt': '2022-07-21T19:39:19Z'}}, {'kind': 'youtube#playlistItem', 'etag': 'tK566l8XUIRMMOMfhdm2E2aEVQ8', 'id': 'VVV5WEQxakFaQmRaNHUwSy1HTFlDNzdRLktybmRxSkVQbjZr', 'snippet': {'publishedAt': '2022-07-18T20:07:42Z', 'channelId': 'UCyXD1jAZBdZ4u0K-GLYC77Q', 'title': 'The Boy Has 9 Lives But His Mother Kills Him Every Year on His Birthday', 'description': 'An accident-prone boy falls into a coma, triggering a series of investigations that reveal a supernatural factor connecting him to his doctor.\\n\\n\\n\\n\\n\\n\\nSubscribe to our friends channel: https://tinyurl.com/Movie-Recaps', 'thumbnails': {'default': {'url': 'https://i.ytimg.com/vi/KrndqJEPn6k/default.jpg', 'width': 120, 'height': 90}, 'medium': {'url': 'https://i.ytimg.com/vi/KrndqJEPn6k/mqdefault.jpg', 'width': 320, 'height': 180}, 'high': {'url': 'https://i.ytimg.com/vi/KrndqJEPn6k/hqdefault.jpg', 'width': 480, 'height': 360}, 'standard': {'url': 'https://i.ytimg.com/vi/KrndqJEPn6k/sddefault.jpg', 'width': 640, 'height': 480}, 'maxres': {'url': 'https://i.ytimg.com/vi/KrndqJEPn6k/maxresdefault.jpg', 'width': 1280, 'height': 720}}, 'channelTitle': 'Movie Recaps', 'playlistId': 'UUyXD1jAZBdZ4u0K-GLYC77Q', 'position': 2, 'resourceId': {'kind': 'youtube#video', 'videoId': 'KrndqJEPn6k'}, 'videoOwnerChannelTitle': 'Movie Recaps', 'videoOwnerChannelId': 'UCyXD1jAZBdZ4u0K-GLYC77Q'}, 'contentDetails': {'videoId': 'KrndqJEPn6k', 'videoPublishedAt': '2022-07-18T20:07:42Z'}}, {'kind': 'youtube#playlistItem', 'etag': 'HYo-bZbCMQGe7-e-X_ESbXSE2Dw', 'id': 'VVV5WEQxakFaQmRaNHUwSy1HTFlDNzdRLi0tbVVPRDlUb2s0', 'snippet': {'publishedAt': '2022-07-16T18:42:42Z', 'channelId': 'UCyXD1jAZBdZ4u0K-GLYC77Q', 'title': 'After 27 Years in Prison, He Became President and Changed The Whole Country', 'description': 'The true story of how the president of South Africa helped the rugby team win the world cup as inspiration to bring people together through the universal enjoyment of sports.\\n\\n\\n\\n\\n\\n\\nSubscribe to our friends channel: https://tinyurl.com/Movie-Recaps', 'thumbnails': {'default': {'url': 'https://i.ytimg.com/vi/--mUOD9Tok4/default.jpg', 'width': 120, 'height': 90}, 'medium': {'url': 'https://i.ytimg.com/vi/--mUOD9Tok4/mqdefault.jpg', 'width': 320, 'height': 180}, 'high': {'url': 'https://i.ytimg.com/vi/--mUOD9Tok4/hqdefault.jpg', 'width': 480, 'height': 360}, 'standard': {'url': 'https://i.ytimg.com/vi/--mUOD9Tok4/sddefault.jpg', 'width': 640, 'height': 480}, 'maxres': {'url': 'https://i.ytimg.com/vi/--mUOD9Tok4/maxresdefault.jpg', 'width': 1280, 'height': 720}}, 'channelTitle': 'Movie Recaps', 'playlistId': 'UUyXD1jAZBdZ4u0K-GLYC77Q', 'position': 3, 'resourceId': {'kind': 'youtube#video', 'videoId': '--mUOD9Tok4'}, 'videoOwnerChannelTitle': 'Movie Recaps', 'videoOwnerChannelId': 'UCyXD1jAZBdZ4u0K-GLYC77Q'}, 'contentDetails': {'videoId': '--mUOD9Tok4', 'videoPublishedAt': '2022-07-16T18:42:42Z'}}, {'kind': 'youtube#playlistItem', 'etag': 'KPoVpARoWoC1VplENsu4n7o_cHA', 'id': 'VVV5WEQxakFaQmRaNHUwSy1HTFlDNzdRLk9URDQzNlJ3RnVF', 'snippet': {'publishedAt': '2022-07-15T19:20:01Z', 'channelId': 'UCyXD1jAZBdZ4u0K-GLYC77Q', 'title': 'Fallen Soldier Wakes up on His Funeral and Learns he Has Become a Zombie', 'description': 'A fallen soldier wakes up in his coffin and discovers he is now a zombie, so with the help of his best friend he will hunt down criminals to feed on.\\n\\n\\n\\n\\n\\n\\n\\nSubscribe to our friends channel: https://tinyurl.com/Movie-Recaps', 'thumbnails': {'default': {'url': 'https://i.ytimg.com/vi/OTD436RwFuE/default.jpg', 'width': 120, 'height': 90}, 'medium': {'url': 'https://i.ytimg.com/vi/OTD436RwFuE/mqdefault.jpg', 'width': 320, 'height': 180}, 'high': {'url': 'https://i.ytimg.com/vi/OTD436RwFuE/hqdefault.jpg', 'width': 480, 'height': 360}, 'standard': {'url': 'https://i.ytimg.com/vi/OTD436RwFuE/sddefault.jpg', 'width': 640, 'height': 480}, 'maxres': {'url': 'https://i.ytimg.com/vi/OTD436RwFuE/maxresdefault.jpg', 'width': 1280, 'height': 720}}, 'channelTitle': 'Movie Recaps', 'playlistId': 'UUyXD1jAZBdZ4u0K-GLYC77Q', 'position': 4, 'resourceId': {'kind': 'youtube#video', 'videoId': 'OTD436RwFuE'}, 'videoOwnerChannelTitle': 'Movie Recaps', 'videoOwnerChannelId': 'UCyXD1jAZBdZ4u0K-GLYC77Q'}, 'contentDetails': {'videoId': 'OTD436RwFuE', 'videoPublishedAt': '2022-07-15T19:20:01Z'}}], 'pageInfo': {'totalResults': 282, 'resultsPerPage': 5}}\n"
          ]
        }
      ]
    },
    {
      "cell_type": "code",
      "source": [
        "data.keys()"
      ],
      "metadata": {
        "colab": {
          "base_uri": "https://localhost:8080/"
        },
        "id": "KA2h6fQVcvqQ",
        "outputId": "730ff8b2-da63-46c7-85d6-90d78f987214"
      },
      "execution_count": 15,
      "outputs": [
        {
          "output_type": "execute_result",
          "data": {
            "text/plain": [
              "dict_keys(['kind', 'etag', 'nextPageToken', 'items', 'pageInfo'])"
            ]
          },
          "metadata": {},
          "execution_count": 15
        }
      ]
    },
    {
      "cell_type": "code",
      "source": [
        "for i in range(len(data['items'])):\n",
        "  print(data['items'][i]['snippet']['title'])"
      ],
      "metadata": {
        "colab": {
          "base_uri": "https://localhost:8080/"
        },
        "id": "_dX75SqlkqZH",
        "outputId": "6a94af4c-1de2-4beb-8b89-5bbbab60a6cc"
      },
      "execution_count": 16,
      "outputs": [
        {
          "output_type": "stream",
          "name": "stdout",
          "text": [
            "Girl Must Wear 25 Kg Iron Shoes Everyday to Avoid Floating Away\n",
            "Before Being Discharged, 3 US Soldiers Discover a Stash of Gold Worth Billions\n",
            "The Boy Has 9 Lives But His Mother Kills Him Every Year on His Birthday\n",
            "After 27 Years in Prison, He Became President and Changed The Whole Country\n",
            "Fallen Soldier Wakes up on His Funeral and Learns he Has Become a Zombie\n"
          ]
        }
      ]
    },
    {
      "cell_type": "code",
      "source": [
        "cont = data['items'][0]"
      ],
      "metadata": {
        "id": "FgmLXqHbhDwX"
      },
      "execution_count": 17,
      "outputs": []
    },
    {
      "cell_type": "code",
      "source": [
        "for keys in cont.keys():\n",
        "  print(keys)\n",
        "  print(cont[keys])\n",
        "  print('*' * 20)"
      ],
      "metadata": {
        "colab": {
          "base_uri": "https://localhost:8080/"
        },
        "id": "LaKBz1R8c2E1",
        "outputId": "3e057174-0923-4645-ccec-d03fa70d2e66"
      },
      "execution_count": 18,
      "outputs": [
        {
          "output_type": "stream",
          "name": "stdout",
          "text": [
            "kind\n",
            "youtube#playlistItem\n",
            "********************\n",
            "etag\n",
            "lAu6bolSfb0eqgOccz2upzKOyLI\n",
            "********************\n",
            "id\n",
            "VVV5WEQxakFaQmRaNHUwSy1HTFlDNzdRLnc5Zzl5ZUhjX0h3\n",
            "********************\n",
            "snippet\n",
            "{'publishedAt': '2022-07-22T20:45:43Z', 'channelId': 'UCyXD1jAZBdZ4u0K-GLYC77Q', 'title': 'Girl Must Wear 25 Kg Iron Shoes Everyday to Avoid Floating Away', 'description': \"A teenager follows his grandfather's stories to find a secret house filled with superpowered children that he must protect because he's the only one that can see the monsters chasing them.\\n\\n\\n\\n\\n\\n\\nSubscribe to our friends channel: https://tinyurl.com/Movie-Recaps\", 'thumbnails': {'default': {'url': 'https://i.ytimg.com/vi/w9g9yeHc_Hw/default.jpg', 'width': 120, 'height': 90}, 'medium': {'url': 'https://i.ytimg.com/vi/w9g9yeHc_Hw/mqdefault.jpg', 'width': 320, 'height': 180}, 'high': {'url': 'https://i.ytimg.com/vi/w9g9yeHc_Hw/hqdefault.jpg', 'width': 480, 'height': 360}}, 'channelTitle': 'Movie Recaps', 'playlistId': 'UUyXD1jAZBdZ4u0K-GLYC77Q', 'position': 0, 'resourceId': {'kind': 'youtube#video', 'videoId': 'w9g9yeHc_Hw'}, 'videoOwnerChannelTitle': 'Movie Recaps', 'videoOwnerChannelId': 'UCyXD1jAZBdZ4u0K-GLYC77Q'}\n",
            "********************\n",
            "contentDetails\n",
            "{'videoId': 'w9g9yeHc_Hw', 'videoPublishedAt': '2022-07-22T20:45:43Z'}\n",
            "********************\n"
          ]
        }
      ]
    },
    {
      "cell_type": "markdown",
      "source": [
        "Lots of nested dictionaries in the output dictionary, but should be straightforward to access necessary values"
      ],
      "metadata": {
        "id": "9Fb0VHTraLZp"
      }
    },
    {
      "cell_type": "code",
      "source": [
        "title = cont['snippet']['title']\n",
        "description = cont['snippet']['description'].split('\\n')[0] ###.split() accounts for the new lines before they plug their friend's channel"
      ],
      "metadata": {
        "id": "uWYaHhX1icgv"
      },
      "execution_count": 20,
      "outputs": []
    },
    {
      "cell_type": "code",
      "source": [
        "print(f'Title: {title} \\nDescription: {description}')"
      ],
      "metadata": {
        "colab": {
          "base_uri": "https://localhost:8080/"
        },
        "id": "QY2OWZuaj6RC",
        "outputId": "cd62992b-6ad3-4e75-9c4e-49433860351c"
      },
      "execution_count": 21,
      "outputs": [
        {
          "output_type": "stream",
          "name": "stdout",
          "text": [
            "Title: Girl Must Wear 25 Kg Iron Shoes Everyday to Avoid Floating Away \n",
            "Description: A teenager follows his grandfather's stories to find a secret house filled with superpowered children that he must protect because he's the only one that can see the monsters chasing them.\n"
          ]
        }
      ]
    },
    {
      "cell_type": "markdown",
      "source": [
        "### Functions to extract desired information and store in pd.DataFrame"
      ],
      "metadata": {
        "id": "GUEjJ0WdjPnq"
      }
    },
    {
      "cell_type": "code",
      "source": [
        "def clean(dirty_text):\n",
        "  \n",
        "  text = [i['text'] for i in dirty_text if i['text'].find('[') == -1]\n",
        "  text = list(map(lambda x: x.replace('\\n', ' '), text))\n",
        "  clean_text = ' '.join(text)\n",
        "  clean_text = re.sub('[^A-Za-z0-9]+', ' ', clean_text)\n",
        "\n",
        "  return clean_text"
      ],
      "metadata": {
        "id": "ibTOAY5SOa8Q"
      },
      "execution_count": 22,
      "outputs": []
    },
    {
      "cell_type": "code",
      "source": [
        "def playlist_to_dataframe(playlist_id, api_key, max_results):\n",
        "  \n",
        "  #Constructing URL for use with YouTube API\n",
        "  api_url = 'https://www.googleapis.com/youtube/v3/playlistItems?'\n",
        "  param_url = f'part=snippet,contentDetails&maxResults={max_results}&playlistId={playlist_id}&'\n",
        "  api_key = f'key={api_key}'\n",
        "\n",
        "  #Setup for looping through all videos in a playlist\n",
        "  loop = True\n",
        "  nextPageToken = None\n",
        "\n",
        "  #Initializing columns for DataFrame Result\n",
        "  desired = np.array(['videoID', 'title', 'description', 'text'])\n",
        "\n",
        "  #Begin retrieving data\n",
        "  while loop:\n",
        "\n",
        "    if nextPageToken is None: #First Page\n",
        "      pageToken = ''\n",
        "    else:                     #Used Only for Subsequent Pages\n",
        "      pageToken = f'&pageToken={nextPageToken}'\n",
        "\n",
        "    #Fully created URL\n",
        "    concat_url = api_url + param_url + api_key + pageToken\n",
        "\n",
        "    with request.urlopen(concat_url + pageToken) as request_url:\n",
        "      data = json.loads(request_url.read().decode())\n",
        "    \n",
        "    #Looping only for the amount of items in data, as on the last page there\n",
        "    #will be less than the maximum amount for certain instances\n",
        "\n",
        "    query_length = len(data['items'])\n",
        "\n",
        "    #Loop to retrieve relevant data from JSON dictionary\n",
        "    for item in range(query_length):\n",
        "\n",
        "      content_dictionary = data['items'][item]\n",
        "\n",
        "      videoID = content_dictionary['contentDetails']['videoId']\n",
        "      title = content_dictionary['snippet']['title']\n",
        "      description = content_dictionary['snippet']['description'].split('\\n')[0]\n",
        "\n",
        "      #This try-except block for the instance when the server limit is reached,\n",
        "      #and the API call will produce an error\n",
        "      try: \n",
        "        text = YouTubeTranscriptApi.get_transcript(videoID)\n",
        "        text = clean(text)\n",
        "      except:\n",
        "        text = np.nan\n",
        "\n",
        "      #vstacking to desired array\n",
        "      desired = np.vstack((desired, np.array([videoID, title, description, text])))\n",
        "\n",
        "    #Every JSON dictionary will have a nextPageToken key until the final page,\n",
        "    #Allowing for this loop to exit when encountering the final page's expected\n",
        "    #KeyError when calling the nextPageToken key\n",
        "    try:\n",
        "      nextPageToken = data['nextPageToken']\n",
        "      print('Accessing Next Page')\n",
        "    except KeyError:\n",
        "      break\n",
        "\n",
        "  df = pd.DataFrame(data = desired[1:], columns = desired[0])\n",
        "\n",
        "  return df\n"
      ],
      "metadata": {
        "id": "GKE5HXMLGfkD"
      },
      "execution_count": 23,
      "outputs": []
    },
    {
      "cell_type": "markdown",
      "source": [
        "## Preparing Data"
      ],
      "metadata": {
        "id": "sLIKPTXbzP67"
      }
    },
    {
      "cell_type": "markdown",
      "source": [
        "### Initial Data Loading"
      ],
      "metadata": {
        "id": "5sy2oud5O4WF"
      }
    },
    {
      "cell_type": "code",
      "source": [
        "df = playlist_to_dataframe(playlist_id = playlist_id,\n",
        "                             api_key = api_key,\n",
        "                             max_results = 50)"
      ],
      "metadata": {
        "colab": {
          "base_uri": "https://localhost:8080/"
        },
        "id": "o_p-v1H8nZjc",
        "outputId": "a45174ed-e626-4578-820d-0edc92f1647f"
      },
      "execution_count": null,
      "outputs": [
        {
          "output_type": "stream",
          "name": "stdout",
          "text": [
            "Accessing Next Page\n",
            "Accessing Next Page\n",
            "Accessing Next Page\n",
            "Accessing Next Page\n",
            "Accessing Next Page\n"
          ]
        }
      ]
    },
    {
      "cell_type": "code",
      "source": [
        "df"
      ],
      "metadata": {
        "colab": {
          "base_uri": "https://localhost:8080/",
          "height": 424
        },
        "id": "OkvUxdjgwqJF",
        "outputId": "7cbf4a11-4d08-44a1-dca7-1558f5d45a12"
      },
      "execution_count": null,
      "outputs": [
        {
          "output_type": "execute_result",
          "data": {
            "text/plain": [
              "         videoID                                              title  \\\n",
              "0    KrndqJEPn6k  The Boy Has 9 Lives But His Mother Kills Him E...   \n",
              "1    --mUOD9Tok4  After 27 Years in Prison, He Became President ...   \n",
              "2    OTD436RwFuE  Fallen Soldier Wakes up on His Funeral and Lea...   \n",
              "3    TK76DFJskPs  Hiker Finds a Stranded Man Wearing Shorts at T...   \n",
              "4    jcpZJeDnr0o  Young Mother Accused of Killing Her Best Frien...   \n",
              "..           ...                                                ...   \n",
              "275  0SE11VVrl5Q  A Group of People Are Trapped in an Elevator A...   \n",
              "276  fYkw4MgPR8A  Hybrid Children Are The Only Hope For The Huma...   \n",
              "277  5rCygdGq_AI  A Family Struggles For Survival in The Face of...   \n",
              "278  4_19GDyr8KA  Shady Legal Guardian Lands in Hot Water When S...   \n",
              "279  HIJ6mThqC8U  Mother That Won't Let Her Daughter Go Away | R...   \n",
              "\n",
              "                                           description  \\\n",
              "0    An accident-prone boy falls into a coma, trigg...   \n",
              "1    The true story of how the president of South A...   \n",
              "2    A fallen soldier wakes up in his coffin and di...   \n",
              "3    The true story of a search and rescue voluntee...   \n",
              "4    During a vacation overseas, a young woman must...   \n",
              "..                                                 ...   \n",
              "275  Time is running out for the occupants of the e...   \n",
              "276  A scientist and a teacher living in a dystopia...   \n",
              "277  A family fights for survival as a planet-killi...   \n",
              "278  This is the story of Marla Grayson. Profession...   \n",
              "279  Sarah Paulson stars as a dangerously overprote...   \n",
              "\n",
              "                                                  text  \n",
              "0    Since he was born Louis Drax has been in hundr...  \n",
              "1    In 1990 Nelson Mandela is finally freed from t...  \n",
              "2    In Iraq a group of American soldiers is travel...  \n",
              "3    It is almost six a m in the morning and search...  \n",
              "4    It s a lovely summer day in Croatia and Beth h...  \n",
              "..                                                 ...  \n",
              "275                                                nan  \n",
              "276                                                nan  \n",
              "277                                                nan  \n",
              "278                                                nan  \n",
              "279                                                nan  \n",
              "\n",
              "[280 rows x 4 columns]"
            ],
            "text/html": [
              "\n",
              "  <div id=\"df-8382b6a0-a11b-44d7-b501-4f06a2139bc8\">\n",
              "    <div class=\"colab-df-container\">\n",
              "      <div>\n",
              "<style scoped>\n",
              "    .dataframe tbody tr th:only-of-type {\n",
              "        vertical-align: middle;\n",
              "    }\n",
              "\n",
              "    .dataframe tbody tr th {\n",
              "        vertical-align: top;\n",
              "    }\n",
              "\n",
              "    .dataframe thead th {\n",
              "        text-align: right;\n",
              "    }\n",
              "</style>\n",
              "<table border=\"1\" class=\"dataframe\">\n",
              "  <thead>\n",
              "    <tr style=\"text-align: right;\">\n",
              "      <th></th>\n",
              "      <th>videoID</th>\n",
              "      <th>title</th>\n",
              "      <th>description</th>\n",
              "      <th>text</th>\n",
              "    </tr>\n",
              "  </thead>\n",
              "  <tbody>\n",
              "    <tr>\n",
              "      <th>0</th>\n",
              "      <td>KrndqJEPn6k</td>\n",
              "      <td>The Boy Has 9 Lives But His Mother Kills Him E...</td>\n",
              "      <td>An accident-prone boy falls into a coma, trigg...</td>\n",
              "      <td>Since he was born Louis Drax has been in hundr...</td>\n",
              "    </tr>\n",
              "    <tr>\n",
              "      <th>1</th>\n",
              "      <td>--mUOD9Tok4</td>\n",
              "      <td>After 27 Years in Prison, He Became President ...</td>\n",
              "      <td>The true story of how the president of South A...</td>\n",
              "      <td>In 1990 Nelson Mandela is finally freed from t...</td>\n",
              "    </tr>\n",
              "    <tr>\n",
              "      <th>2</th>\n",
              "      <td>OTD436RwFuE</td>\n",
              "      <td>Fallen Soldier Wakes up on His Funeral and Lea...</td>\n",
              "      <td>A fallen soldier wakes up in his coffin and di...</td>\n",
              "      <td>In Iraq a group of American soldiers is travel...</td>\n",
              "    </tr>\n",
              "    <tr>\n",
              "      <th>3</th>\n",
              "      <td>TK76DFJskPs</td>\n",
              "      <td>Hiker Finds a Stranded Man Wearing Shorts at T...</td>\n",
              "      <td>The true story of a search and rescue voluntee...</td>\n",
              "      <td>It is almost six a m in the morning and search...</td>\n",
              "    </tr>\n",
              "    <tr>\n",
              "      <th>4</th>\n",
              "      <td>jcpZJeDnr0o</td>\n",
              "      <td>Young Mother Accused of Killing Her Best Frien...</td>\n",
              "      <td>During a vacation overseas, a young woman must...</td>\n",
              "      <td>It s a lovely summer day in Croatia and Beth h...</td>\n",
              "    </tr>\n",
              "    <tr>\n",
              "      <th>...</th>\n",
              "      <td>...</td>\n",
              "      <td>...</td>\n",
              "      <td>...</td>\n",
              "      <td>...</td>\n",
              "    </tr>\n",
              "    <tr>\n",
              "      <th>275</th>\n",
              "      <td>0SE11VVrl5Q</td>\n",
              "      <td>A Group of People Are Trapped in an Elevator A...</td>\n",
              "      <td>Time is running out for the occupants of the e...</td>\n",
              "      <td>nan</td>\n",
              "    </tr>\n",
              "    <tr>\n",
              "      <th>276</th>\n",
              "      <td>fYkw4MgPR8A</td>\n",
              "      <td>Hybrid Children Are The Only Hope For The Huma...</td>\n",
              "      <td>A scientist and a teacher living in a dystopia...</td>\n",
              "      <td>nan</td>\n",
              "    </tr>\n",
              "    <tr>\n",
              "      <th>277</th>\n",
              "      <td>5rCygdGq_AI</td>\n",
              "      <td>A Family Struggles For Survival in The Face of...</td>\n",
              "      <td>A family fights for survival as a planet-killi...</td>\n",
              "      <td>nan</td>\n",
              "    </tr>\n",
              "    <tr>\n",
              "      <th>278</th>\n",
              "      <td>4_19GDyr8KA</td>\n",
              "      <td>Shady Legal Guardian Lands in Hot Water When S...</td>\n",
              "      <td>This is the story of Marla Grayson. Profession...</td>\n",
              "      <td>nan</td>\n",
              "    </tr>\n",
              "    <tr>\n",
              "      <th>279</th>\n",
              "      <td>HIJ6mThqC8U</td>\n",
              "      <td>Mother That Won't Let Her Daughter Go Away | R...</td>\n",
              "      <td>Sarah Paulson stars as a dangerously overprote...</td>\n",
              "      <td>nan</td>\n",
              "    </tr>\n",
              "  </tbody>\n",
              "</table>\n",
              "<p>280 rows × 4 columns</p>\n",
              "</div>\n",
              "      <button class=\"colab-df-convert\" onclick=\"convertToInteractive('df-8382b6a0-a11b-44d7-b501-4f06a2139bc8')\"\n",
              "              title=\"Convert this dataframe to an interactive table.\"\n",
              "              style=\"display:none;\">\n",
              "        \n",
              "  <svg xmlns=\"http://www.w3.org/2000/svg\" height=\"24px\"viewBox=\"0 0 24 24\"\n",
              "       width=\"24px\">\n",
              "    <path d=\"M0 0h24v24H0V0z\" fill=\"none\"/>\n",
              "    <path d=\"M18.56 5.44l.94 2.06.94-2.06 2.06-.94-2.06-.94-.94-2.06-.94 2.06-2.06.94zm-11 1L8.5 8.5l.94-2.06 2.06-.94-2.06-.94L8.5 2.5l-.94 2.06-2.06.94zm10 10l.94 2.06.94-2.06 2.06-.94-2.06-.94-.94-2.06-.94 2.06-2.06.94z\"/><path d=\"M17.41 7.96l-1.37-1.37c-.4-.4-.92-.59-1.43-.59-.52 0-1.04.2-1.43.59L10.3 9.45l-7.72 7.72c-.78.78-.78 2.05 0 2.83L4 21.41c.39.39.9.59 1.41.59.51 0 1.02-.2 1.41-.59l7.78-7.78 2.81-2.81c.8-.78.8-2.07 0-2.86zM5.41 20L4 18.59l7.72-7.72 1.47 1.35L5.41 20z\"/>\n",
              "  </svg>\n",
              "      </button>\n",
              "      \n",
              "  <style>\n",
              "    .colab-df-container {\n",
              "      display:flex;\n",
              "      flex-wrap:wrap;\n",
              "      gap: 12px;\n",
              "    }\n",
              "\n",
              "    .colab-df-convert {\n",
              "      background-color: #E8F0FE;\n",
              "      border: none;\n",
              "      border-radius: 50%;\n",
              "      cursor: pointer;\n",
              "      display: none;\n",
              "      fill: #1967D2;\n",
              "      height: 32px;\n",
              "      padding: 0 0 0 0;\n",
              "      width: 32px;\n",
              "    }\n",
              "\n",
              "    .colab-df-convert:hover {\n",
              "      background-color: #E2EBFA;\n",
              "      box-shadow: 0px 1px 2px rgba(60, 64, 67, 0.3), 0px 1px 3px 1px rgba(60, 64, 67, 0.15);\n",
              "      fill: #174EA6;\n",
              "    }\n",
              "\n",
              "    [theme=dark] .colab-df-convert {\n",
              "      background-color: #3B4455;\n",
              "      fill: #D2E3FC;\n",
              "    }\n",
              "\n",
              "    [theme=dark] .colab-df-convert:hover {\n",
              "      background-color: #434B5C;\n",
              "      box-shadow: 0px 1px 3px 1px rgba(0, 0, 0, 0.15);\n",
              "      filter: drop-shadow(0px 1px 2px rgba(0, 0, 0, 0.3));\n",
              "      fill: #FFFFFF;\n",
              "    }\n",
              "  </style>\n",
              "\n",
              "      <script>\n",
              "        const buttonEl =\n",
              "          document.querySelector('#df-8382b6a0-a11b-44d7-b501-4f06a2139bc8 button.colab-df-convert');\n",
              "        buttonEl.style.display =\n",
              "          google.colab.kernel.accessAllowed ? 'block' : 'none';\n",
              "\n",
              "        async function convertToInteractive(key) {\n",
              "          const element = document.querySelector('#df-8382b6a0-a11b-44d7-b501-4f06a2139bc8');\n",
              "          const dataTable =\n",
              "            await google.colab.kernel.invokeFunction('convertToInteractive',\n",
              "                                                     [key], {});\n",
              "          if (!dataTable) return;\n",
              "\n",
              "          const docLinkHtml = 'Like what you see? Visit the ' +\n",
              "            '<a target=\"_blank\" href=https://colab.research.google.com/notebooks/data_table.ipynb>data table notebook</a>'\n",
              "            + ' to learn more about interactive tables.';\n",
              "          element.innerHTML = '';\n",
              "          dataTable['output_type'] = 'display_data';\n",
              "          await google.colab.output.renderOutput(dataTable, element);\n",
              "          const docLink = document.createElement('div');\n",
              "          docLink.innerHTML = docLinkHtml;\n",
              "          element.appendChild(docLink);\n",
              "        }\n",
              "      </script>\n",
              "    </div>\n",
              "  </div>\n",
              "  "
            ]
          },
          "metadata": {},
          "execution_count": 25
        }
      ]
    },
    {
      "cell_type": "code",
      "source": [
        "has_text = df.loc[df['text'] != 'nan'].reset_index(drop = True)"
      ],
      "metadata": {
        "id": "7JjfPptxVD_o"
      },
      "execution_count": null,
      "outputs": []
    },
    {
      "cell_type": "code",
      "source": [
        "has_text"
      ],
      "metadata": {
        "colab": {
          "base_uri": "https://localhost:8080/",
          "height": 424
        },
        "id": "TXeDMEy8VawT",
        "outputId": "6774faa8-6232-45e8-bf5d-ef69809ccccc"
      },
      "execution_count": null,
      "outputs": [
        {
          "output_type": "execute_result",
          "data": {
            "text/plain": [
              "         videoID                                              title  \\\n",
              "0    KrndqJEPn6k  The Boy Has 9 Lives But His Mother Kills Him E...   \n",
              "1    --mUOD9Tok4  After 27 Years in Prison, He Became President ...   \n",
              "2    OTD436RwFuE  Fallen Soldier Wakes up on His Funeral and Lea...   \n",
              "3    TK76DFJskPs  Hiker Finds a Stranded Man Wearing Shorts at T...   \n",
              "4    jcpZJeDnr0o  Young Mother Accused of Killing Her Best Frien...   \n",
              "..           ...                                                ...   \n",
              "210  8Z4fVj43JIM  A Damaged Spaceship Carrying Settlers to Mars ...   \n",
              "211  Q_xtMu6bqv8  A Woman Vampire is Forced Into Action When Ter...   \n",
              "212  NryQxqPAn4Q  Five American Soldiers Encounter an Enemy More...   \n",
              "213  3pwJcaWqOu4  A Soldier Wakes Up in Someone Else's Body and ...   \n",
              "214  eqcZ4Lvv59M  A Girl is Tired of Being Allowed to Get Out On...   \n",
              "\n",
              "                                           description  \\\n",
              "0    An accident-prone boy falls into a coma, trigg...   \n",
              "1    The true story of how the president of South A...   \n",
              "2    A fallen soldier wakes up in his coffin and di...   \n",
              "3    The true story of a search and rescue voluntee...   \n",
              "4    During a vacation overseas, a young woman must...   \n",
              "..                                                 ...   \n",
              "210  A Mars-bound spaceship gets knocked off course...   \n",
              "211  A woman with a Mysterious illness who is heade...   \n",
              "212  American soldiers are assigned to hold a Frenc...   \n",
              "213  An Army Captain becomes a part of an experimen...   \n",
              "214  In year 2073, overpopulation and food shortage...   \n",
              "\n",
              "                                                  text  \n",
              "0    Since he was born Louis Drax has been in hundr...  \n",
              "1    In 1990 Nelson Mandela is finally freed from t...  \n",
              "2    In Iraq a group of American soldiers is travel...  \n",
              "3    It is almost six a m in the morning and search...  \n",
              "4    It s a lovely summer day in Croatia and Beth h...  \n",
              "..                                                 ...  \n",
              "210  Welcome back to Movie Recaps Today I will show...  \n",
              "211  Welcome back to Movie Recaps Today I will show...  \n",
              "212  Welcome back to Movie Recaps Today I will show...  \n",
              "213  Welcome back to Movie Recaps Today I will show...  \n",
              "214  Welcome back to Movie Recaps Today I will show...  \n",
              "\n",
              "[215 rows x 4 columns]"
            ],
            "text/html": [
              "\n",
              "  <div id=\"df-4fcd4533-5eba-45fa-bd6d-c68dad550505\">\n",
              "    <div class=\"colab-df-container\">\n",
              "      <div>\n",
              "<style scoped>\n",
              "    .dataframe tbody tr th:only-of-type {\n",
              "        vertical-align: middle;\n",
              "    }\n",
              "\n",
              "    .dataframe tbody tr th {\n",
              "        vertical-align: top;\n",
              "    }\n",
              "\n",
              "    .dataframe thead th {\n",
              "        text-align: right;\n",
              "    }\n",
              "</style>\n",
              "<table border=\"1\" class=\"dataframe\">\n",
              "  <thead>\n",
              "    <tr style=\"text-align: right;\">\n",
              "      <th></th>\n",
              "      <th>videoID</th>\n",
              "      <th>title</th>\n",
              "      <th>description</th>\n",
              "      <th>text</th>\n",
              "    </tr>\n",
              "  </thead>\n",
              "  <tbody>\n",
              "    <tr>\n",
              "      <th>0</th>\n",
              "      <td>KrndqJEPn6k</td>\n",
              "      <td>The Boy Has 9 Lives But His Mother Kills Him E...</td>\n",
              "      <td>An accident-prone boy falls into a coma, trigg...</td>\n",
              "      <td>Since he was born Louis Drax has been in hundr...</td>\n",
              "    </tr>\n",
              "    <tr>\n",
              "      <th>1</th>\n",
              "      <td>--mUOD9Tok4</td>\n",
              "      <td>After 27 Years in Prison, He Became President ...</td>\n",
              "      <td>The true story of how the president of South A...</td>\n",
              "      <td>In 1990 Nelson Mandela is finally freed from t...</td>\n",
              "    </tr>\n",
              "    <tr>\n",
              "      <th>2</th>\n",
              "      <td>OTD436RwFuE</td>\n",
              "      <td>Fallen Soldier Wakes up on His Funeral and Lea...</td>\n",
              "      <td>A fallen soldier wakes up in his coffin and di...</td>\n",
              "      <td>In Iraq a group of American soldiers is travel...</td>\n",
              "    </tr>\n",
              "    <tr>\n",
              "      <th>3</th>\n",
              "      <td>TK76DFJskPs</td>\n",
              "      <td>Hiker Finds a Stranded Man Wearing Shorts at T...</td>\n",
              "      <td>The true story of a search and rescue voluntee...</td>\n",
              "      <td>It is almost six a m in the morning and search...</td>\n",
              "    </tr>\n",
              "    <tr>\n",
              "      <th>4</th>\n",
              "      <td>jcpZJeDnr0o</td>\n",
              "      <td>Young Mother Accused of Killing Her Best Frien...</td>\n",
              "      <td>During a vacation overseas, a young woman must...</td>\n",
              "      <td>It s a lovely summer day in Croatia and Beth h...</td>\n",
              "    </tr>\n",
              "    <tr>\n",
              "      <th>...</th>\n",
              "      <td>...</td>\n",
              "      <td>...</td>\n",
              "      <td>...</td>\n",
              "      <td>...</td>\n",
              "    </tr>\n",
              "    <tr>\n",
              "      <th>210</th>\n",
              "      <td>8Z4fVj43JIM</td>\n",
              "      <td>A Damaged Spaceship Carrying Settlers to Mars ...</td>\n",
              "      <td>A Mars-bound spaceship gets knocked off course...</td>\n",
              "      <td>Welcome back to Movie Recaps Today I will show...</td>\n",
              "    </tr>\n",
              "    <tr>\n",
              "      <th>211</th>\n",
              "      <td>Q_xtMu6bqv8</td>\n",
              "      <td>A Woman Vampire is Forced Into Action When Ter...</td>\n",
              "      <td>A woman with a Mysterious illness who is heade...</td>\n",
              "      <td>Welcome back to Movie Recaps Today I will show...</td>\n",
              "    </tr>\n",
              "    <tr>\n",
              "      <th>212</th>\n",
              "      <td>NryQxqPAn4Q</td>\n",
              "      <td>Five American Soldiers Encounter an Enemy More...</td>\n",
              "      <td>American soldiers are assigned to hold a Frenc...</td>\n",
              "      <td>Welcome back to Movie Recaps Today I will show...</td>\n",
              "    </tr>\n",
              "    <tr>\n",
              "      <th>213</th>\n",
              "      <td>3pwJcaWqOu4</td>\n",
              "      <td>A Soldier Wakes Up in Someone Else's Body and ...</td>\n",
              "      <td>An Army Captain becomes a part of an experimen...</td>\n",
              "      <td>Welcome back to Movie Recaps Today I will show...</td>\n",
              "    </tr>\n",
              "    <tr>\n",
              "      <th>214</th>\n",
              "      <td>eqcZ4Lvv59M</td>\n",
              "      <td>A Girl is Tired of Being Allowed to Get Out On...</td>\n",
              "      <td>In year 2073, overpopulation and food shortage...</td>\n",
              "      <td>Welcome back to Movie Recaps Today I will show...</td>\n",
              "    </tr>\n",
              "  </tbody>\n",
              "</table>\n",
              "<p>215 rows × 4 columns</p>\n",
              "</div>\n",
              "      <button class=\"colab-df-convert\" onclick=\"convertToInteractive('df-4fcd4533-5eba-45fa-bd6d-c68dad550505')\"\n",
              "              title=\"Convert this dataframe to an interactive table.\"\n",
              "              style=\"display:none;\">\n",
              "        \n",
              "  <svg xmlns=\"http://www.w3.org/2000/svg\" height=\"24px\"viewBox=\"0 0 24 24\"\n",
              "       width=\"24px\">\n",
              "    <path d=\"M0 0h24v24H0V0z\" fill=\"none\"/>\n",
              "    <path d=\"M18.56 5.44l.94 2.06.94-2.06 2.06-.94-2.06-.94-.94-2.06-.94 2.06-2.06.94zm-11 1L8.5 8.5l.94-2.06 2.06-.94-2.06-.94L8.5 2.5l-.94 2.06-2.06.94zm10 10l.94 2.06.94-2.06 2.06-.94-2.06-.94-.94-2.06-.94 2.06-2.06.94z\"/><path d=\"M17.41 7.96l-1.37-1.37c-.4-.4-.92-.59-1.43-.59-.52 0-1.04.2-1.43.59L10.3 9.45l-7.72 7.72c-.78.78-.78 2.05 0 2.83L4 21.41c.39.39.9.59 1.41.59.51 0 1.02-.2 1.41-.59l7.78-7.78 2.81-2.81c.8-.78.8-2.07 0-2.86zM5.41 20L4 18.59l7.72-7.72 1.47 1.35L5.41 20z\"/>\n",
              "  </svg>\n",
              "      </button>\n",
              "      \n",
              "  <style>\n",
              "    .colab-df-container {\n",
              "      display:flex;\n",
              "      flex-wrap:wrap;\n",
              "      gap: 12px;\n",
              "    }\n",
              "\n",
              "    .colab-df-convert {\n",
              "      background-color: #E8F0FE;\n",
              "      border: none;\n",
              "      border-radius: 50%;\n",
              "      cursor: pointer;\n",
              "      display: none;\n",
              "      fill: #1967D2;\n",
              "      height: 32px;\n",
              "      padding: 0 0 0 0;\n",
              "      width: 32px;\n",
              "    }\n",
              "\n",
              "    .colab-df-convert:hover {\n",
              "      background-color: #E2EBFA;\n",
              "      box-shadow: 0px 1px 2px rgba(60, 64, 67, 0.3), 0px 1px 3px 1px rgba(60, 64, 67, 0.15);\n",
              "      fill: #174EA6;\n",
              "    }\n",
              "\n",
              "    [theme=dark] .colab-df-convert {\n",
              "      background-color: #3B4455;\n",
              "      fill: #D2E3FC;\n",
              "    }\n",
              "\n",
              "    [theme=dark] .colab-df-convert:hover {\n",
              "      background-color: #434B5C;\n",
              "      box-shadow: 0px 1px 3px 1px rgba(0, 0, 0, 0.15);\n",
              "      filter: drop-shadow(0px 1px 2px rgba(0, 0, 0, 0.3));\n",
              "      fill: #FFFFFF;\n",
              "    }\n",
              "  </style>\n",
              "\n",
              "      <script>\n",
              "        const buttonEl =\n",
              "          document.querySelector('#df-4fcd4533-5eba-45fa-bd6d-c68dad550505 button.colab-df-convert');\n",
              "        buttonEl.style.display =\n",
              "          google.colab.kernel.accessAllowed ? 'block' : 'none';\n",
              "\n",
              "        async function convertToInteractive(key) {\n",
              "          const element = document.querySelector('#df-4fcd4533-5eba-45fa-bd6d-c68dad550505');\n",
              "          const dataTable =\n",
              "            await google.colab.kernel.invokeFunction('convertToInteractive',\n",
              "                                                     [key], {});\n",
              "          if (!dataTable) return;\n",
              "\n",
              "          const docLinkHtml = 'Like what you see? Visit the ' +\n",
              "            '<a target=\"_blank\" href=https://colab.research.google.com/notebooks/data_table.ipynb>data table notebook</a>'\n",
              "            + ' to learn more about interactive tables.';\n",
              "          element.innerHTML = '';\n",
              "          dataTable['output_type'] = 'display_data';\n",
              "          await google.colab.output.renderOutput(dataTable, element);\n",
              "          const docLink = document.createElement('div');\n",
              "          docLink.innerHTML = docLinkHtml;\n",
              "          element.appendChild(docLink);\n",
              "        }\n",
              "      </script>\n",
              "    </div>\n",
              "  </div>\n",
              "  "
            ]
          },
          "metadata": {},
          "execution_count": 41
        }
      ]
    },
    {
      "cell_type": "markdown",
      "source": [
        "As can be seen, the API for retrieving YouTube Transcripts has a limit, which may be affected by how much time is taken between reaching server limits. I will retrieve the videoIDs of where the transcript was not able to be retrieved and try to wait until there are available requests to finish the dataset."
      ],
      "metadata": {
        "id": "RJjuspaaV2En"
      }
    },
    {
      "cell_type": "code",
      "source": [
        "missing_text = df.loc[df['text'] == 'nan'].reset_index(drop = True)\n",
        "missing_text"
      ],
      "metadata": {
        "id": "QjDpF93-WSoS"
      },
      "execution_count": null,
      "outputs": []
    },
    {
      "cell_type": "markdown",
      "source": [
        "To avoid further trouble with API limits, the dataframes will be downloaded as .csv files for future use"
      ],
      "metadata": {
        "id": "MTJV6p9sYB0w"
      }
    },
    {
      "cell_type": "code",
      "source": [
        "has_text.to_csv('/content/has_text.csv')"
      ],
      "metadata": {
        "id": "ey5yXUy4YA59"
      },
      "execution_count": null,
      "outputs": []
    },
    {
      "cell_type": "code",
      "source": [
        "missing_text.to_csv('/content/missing_text.csv')"
      ],
      "metadata": {
        "id": "0UZKqvoMZFHK"
      },
      "execution_count": null,
      "outputs": []
    },
    {
      "cell_type": "markdown",
      "source": [
        "Further Data Retrieval/API Usage: https://colab.research.google.com/drive/1ZIhCM6gukUKckrnssOSZOH6jhiEeio8p?usp=sharing"
      ],
      "metadata": {
        "id": "bsBoPwgAPcv9"
      }
    },
    {
      "cell_type": "markdown",
      "source": [
        "## Creating training split for model"
      ],
      "metadata": {
        "id": "J90dvXwdbHAC"
      }
    },
    {
      "cell_type": "markdown",
      "source": [
        "Loading Data from .csv file"
      ],
      "metadata": {
        "id": "J4Wfok8vOjK6"
      }
    },
    {
      "cell_type": "code",
      "source": [
        "has_text = pd.read_csv('/content/drive/MyDrive/Colab Notebooks/has_text (1).csv')"
      ],
      "metadata": {
        "id": "JcO_YxhxFMmF"
      },
      "execution_count": 15,
      "outputs": []
    },
    {
      "cell_type": "code",
      "source": [
        "inputs, labels = has_text['text'], has_text['description']"
      ],
      "metadata": {
        "id": "6UQZh8K81INx"
      },
      "execution_count": 16,
      "outputs": []
    },
    {
      "cell_type": "markdown",
      "source": [
        "Important to remove the redundant intro from each transcript for higher quality training data\n",
        "\n",
        "Typically the intro will not be longer than 170 characters, hence the array of [-1, 170]. "
      ],
      "metadata": {
        "id": "qkeEZsRbOwgK"
      }
    },
    {
      "cell_type": "code",
      "source": [
        "inputs = list(map(lambda x: x[x.find('care') + 4:].strip() if x.find('care')\\\n",
        "                         not in [-1, 170] else x, inputs.tolist()))"
      ],
      "metadata": {
        "id": "zkJGJAqWO5Zu"
      },
      "execution_count": 220,
      "outputs": []
    },
    {
      "cell_type": "code",
      "source": [
        "X_train, X_test, y_train, y_test = train_test_split(inputs, labels, \n",
        "                                                    test_size = .05,\n",
        "                                                    shuffle = True,\n",
        "                                                    random_state = 48)"
      ],
      "metadata": {
        "id": "yXTs7Z0uZ990"
      },
      "execution_count": 221,
      "outputs": []
    },
    {
      "cell_type": "code",
      "source": [
        "print(f'Train Length: {len(X_train)} \\nTest Length: {len(X_test)}')"
      ],
      "metadata": {
        "colab": {
          "base_uri": "https://localhost:8080/"
        },
        "id": "AzfERdJuk-6G",
        "outputId": "05005403-8a96-4a9f-f7a9-bc29a4f6c052"
      },
      "execution_count": 222,
      "outputs": [
        {
          "output_type": "stream",
          "name": "stdout",
          "text": [
            "Train Length: 243 \n",
            "Test Length: 13\n"
          ]
        }
      ]
    },
    {
      "cell_type": "markdown",
      "source": [
        "200 training examples and 43 validation examples"
      ],
      "metadata": {
        "id": "-JcpTobeOo6b"
      }
    },
    {
      "cell_type": "code",
      "source": [
        "train_encodings = tokenizer.batch_encode_plus(X_train[:200], padding = 'longest',\n",
        "                                              truncation = True,\n",
        "                                              max_length = 512,\n",
        "                                              return_tensors = 'pt')\n",
        "\n",
        "train_decodings = tokenizer.batch_encode_plus(y_train[:200], padding = 'longest',\n",
        "                                              truncation = True,\n",
        "                                              max_length = 128,\n",
        "                                              return_tensors = 'pt')"
      ],
      "metadata": {
        "id": "Dt-8XhIqMjIU"
      },
      "execution_count": 223,
      "outputs": []
    },
    {
      "cell_type": "code",
      "source": [
        "eval_encodings = tokenizer.batch_encode_plus(X_train[200:], padding = 'longest',\n",
        "                                             truncation = True,\n",
        "                                             max_length = 512,\n",
        "                                             return_tensors = 'pt')\n",
        "\n",
        "eval_decodings = tokenizer.batch_encode_plus(y_train[200:], padding = 'longest',\n",
        "                                             truncation = True,\n",
        "                                             max_length = 128,\n",
        "                                             return_tensors = 'pt')"
      ],
      "metadata": {
        "id": "srXvyV8KG4Ly"
      },
      "execution_count": 224,
      "outputs": []
    },
    {
      "cell_type": "markdown",
      "source": [
        "Investigating 1st and 3rd quartile for decoding length to create general intuition of how long model generating length (min_length/max_length) should be"
      ],
      "metadata": {
        "id": "H8WVEqGYPgrA"
      }
    },
    {
      "cell_type": "code",
      "source": [
        "np.quantile(list(map(lambda x: len(x), train_decodings['input_ids'])), q = [.25, .75])"
      ],
      "metadata": {
        "colab": {
          "base_uri": "https://localhost:8080/"
        },
        "id": "4oxa4HOwLif4",
        "outputId": "8e49de64-4f6d-46bf-c0e3-b8fe4af95aac"
      },
      "execution_count": 225,
      "outputs": [
        {
          "output_type": "execute_result",
          "data": {
            "text/plain": [
              "array([73., 73.])"
            ]
          },
          "metadata": {},
          "execution_count": 225
        }
      ]
    },
    {
      "cell_type": "markdown",
      "source": [
        "### Test Set Pre-Fine Tuning"
      ],
      "metadata": {
        "id": "njxNFKp1s7fU"
      }
    },
    {
      "cell_type": "code",
      "source": [
        "def generate_predictions(model, test_encodings, min_length, max_length):\n",
        "  \n",
        "  pred = []\n",
        "\n",
        "  for encoding in test_encodings:\n",
        "    encoding.to(device)\n",
        "    gen = model.generate(encoding['input_ids'], \n",
        "                         min_length = min_length,\n",
        "                         max_length = max_length)\n",
        "    pred.append(gen)\n",
        "\n",
        "  pred = list(map(lambda x: tokenizer.batch_decode(x, \n",
        "                                                   skip_special_tokens = True, \n",
        "                                                   clean_up_tokenization_spaces = True)[0], \n",
        "                  pred))\n",
        "\n",
        "  return pred\n"
      ],
      "metadata": {
        "id": "DwS6jT3aP1GB"
      },
      "execution_count": 245,
      "outputs": []
    },
    {
      "cell_type": "code",
      "source": [
        "test_encodings = list(map(lambda x: tokenizer(x, max_length = 512,\n",
        "                                          truncation = True,\n",
        "                                          padding = True,\n",
        "                                          return_tensors = 'pt'), X_test))"
      ],
      "metadata": {
        "id": "JXvn97ECuXPA"
      },
      "execution_count": 227,
      "outputs": []
    },
    {
      "cell_type": "code",
      "source": [
        "pred = generate_predictions(model, test_encodings, min_length = 30, max_length = 120)"
      ],
      "metadata": {
        "id": "8HqfpCjnLcuH"
      },
      "execution_count": null,
      "outputs": []
    },
    {
      "cell_type": "markdown",
      "source": [
        "## Pegasus Training"
      ],
      "metadata": {
        "id": "Lg-tOhwvzm7Z"
      }
    },
    {
      "cell_type": "code",
      "source": [
        "#reference https://gist.github.com/jiahao87/50cec29725824da7ff6dd9314b53c4b3"
      ],
      "metadata": {
        "id": "LimWgzd97-mL"
      },
      "execution_count": 38,
      "outputs": []
    },
    {
      "cell_type": "code",
      "source": [
        "class PegasusDataset(torch.utils.data.Dataset):\n",
        "    def __init__(self, encodings, labels):\n",
        "        self.encodings = encodings\n",
        "        self.labels = labels\n",
        "    def __getitem__(self, idx):\n",
        "        item = {key: val[idx] for key, val in self.encodings.items()}\n",
        "        item['labels'] = self.labels['input_ids'][idx] \n",
        "        return item\n",
        "    def __len__(self):\n",
        "        return len(self.labels['input_ids'])"
      ],
      "metadata": {
        "id": "62Zib1d277jN"
      },
      "execution_count": 188,
      "outputs": []
    },
    {
      "cell_type": "code",
      "source": [
        "output_dir = '/content/fine_tuned_pegasus.bin'"
      ],
      "metadata": {
        "id": "jlmlHJKD59fD"
      },
      "execution_count": 189,
      "outputs": []
    },
    {
      "cell_type": "code",
      "source": [
        "train_dataset = PegasusDataset(train_encodings, train_decodings)"
      ],
      "metadata": {
        "id": "zlchdwipFCYG"
      },
      "execution_count": 190,
      "outputs": []
    },
    {
      "cell_type": "code",
      "source": [
        "eval_dataset = PegasusDataset(eval_encodings, eval_decodings)"
      ],
      "metadata": {
        "id": "EadfrMcxGysn"
      },
      "execution_count": 191,
      "outputs": []
    },
    {
      "cell_type": "code",
      "source": [
        "training_args = TrainingArguments(output_dir = output_dir,\n",
        "                                  num_train_epochs = 20,\n",
        "                                  save_steps = 100,\n",
        "                                  save_total_limit = 1,\n",
        "                                  warmup_steps = 100,\n",
        "                                  save_strategy = 'epoch',\n",
        "                                  load_best_model_at_end = True,\n",
        "                                  logging_strategy = 'epoch',\n",
        "                                  metric_for_best_model = 'eval_loss',\n",
        "                                  evaluation_strategy = 'epoch',\n",
        "                                  auto_find_batch_size = True,\n",
        "                                  )"
      ],
      "metadata": {
        "id": "V3EitqZ_ygzA"
      },
      "execution_count": null,
      "outputs": []
    },
    {
      "cell_type": "code",
      "source": [
        "trainer = Trainer(model = model, args = training_args, \n",
        "                  train_dataset = train_dataset,\n",
        "                  eval_dataset = eval_dataset,\n",
        "                  tokenizer = tokenizer)"
      ],
      "metadata": {
        "id": "MSVRLPNFsrLf"
      },
      "execution_count": 201,
      "outputs": []
    },
    {
      "cell_type": "code",
      "source": [
        "torch.cuda.empty_cache()"
      ],
      "metadata": {
        "id": "feczPVTt7q3y"
      },
      "execution_count": 202,
      "outputs": []
    },
    {
      "cell_type": "markdown",
      "source": [
        "Initial goal was to train the model with a total of 2048 embeddings for the inputs, however GPU limitations prevent the model training. 512 instead was selected to lower the strain on the GPU"
      ],
      "metadata": {
        "id": "nnwA-KIvIrE-"
      }
    },
    {
      "cell_type": "code",
      "source": [
        "trainer.train()"
      ],
      "metadata": {
        "id": "ZmUMHqlfsyVe"
      },
      "execution_count": null,
      "outputs": []
    },
    {
      "cell_type": "markdown",
      "source": [
        "## Inference/Model Performance after Fine Tuning"
      ],
      "metadata": {
        "id": "tUF_sGAkNZNC"
      }
    },
    {
      "cell_type": "code",
      "source": [
        "summaries = generate_predictions(model, test_encodings, min_length = 30, max_length = 120)"
      ],
      "metadata": {
        "id": "kiPieBdR25pT"
      },
      "execution_count": 246,
      "outputs": []
    },
    {
      "cell_type": "code",
      "source": [
        "summaries"
      ],
      "metadata": {
        "colab": {
          "base_uri": "https://localhost:8080/"
        },
        "id": "HFAN_zsZ2_EP",
        "outputId": "421c2a02-7e8c-474b-db77-e100e1f89f96"
      },
      "execution_count": 247,
      "outputs": [
        {
          "output_type": "execute_result",
          "data": {
            "text/plain": [
              "[\"A young woman is given the chance to create new memories indistinguishable from reality in order to cure her brother's drowning accident. Now she must find a way to survive.\",\n",
              " 'A successful real estate agent is kidnapped by a man who lives in his closet and must find a way to find his girlfriend before he is killed.',\n",
              " 'A repo man is hired by a company to locate and forcibly repossess a bio-mechanical organ known as artiforgs that is being sold at very high prices.',\n",
              " 'A group of struggling to survive a pandemic that has wiped out humanity, they must find a way to communicate with each other in order to stay alive.',\n",
              " 'A former soldier and his spotter are on a peacekeeping mission in the middle of the Ethiopian desert when they discover a plan to assassinate the president of the United States.',\n",
              " 'A special boarding school that works as a foster home for young women is about to move on to the next level, so the girls must find a way to survive.',\n",
              " 'The year is 2022 and a serious looking cheerleader is ready to share her story on the internet through a livestream with the help of her widower dad behind the camera.',\n",
              " \"After fourteen years in captivity, a mother and her two children must find a way to tell their mother's story to the rest of the world.\",\n",
              " 'A successful oil tycoon leaves his town to go to Mexico to do missionary work. Now he must find a way to get the deal done without betraying his family.',\n",
              " 'A young man decides to go to Rio to find a girl he considers special, but he gets caught up in a series of events that will change his life forever.',\n",
              " 'A retired man decides to participate in a behavioral experiment that will pay him one thousand a day for two weeks, but his life will be changed forever when the experiment is over.',\n",
              " 'The year is 2027 and humanity has been unable to reproduce since the end of the 20th century. Now society is on the brink of extinction.',\n",
              " 'The story of narrated by a group of medical students and their friends as they try to find out what happened to their loved ones during a near-death experience.']"
            ]
          },
          "metadata": {},
          "execution_count": 247
        }
      ]
    },
    {
      "cell_type": "markdown",
      "source": [
        "### Rouge Metric"
      ],
      "metadata": {
        "id": "CQmgEF3LSzKb"
      }
    },
    {
      "cell_type": "markdown",
      "source": [
        "ROUGE is used to evaluate automatically produced summaries and the actual reference summaries. \n",
        "\n",
        "ROUGE-1 is the overlap of unigrams(an n-gram consisting of a single item from a sequence)\n",
        "\n",
        "ROUGE-L is the longest matching sequence of words"
      ],
      "metadata": {
        "id": "iqDraqMiXfPh"
      }
    },
    {
      "cell_type": "code",
      "source": [
        "from rouge_score import rouge_scorer\n",
        "\n",
        "scorer = rouge_scorer.RougeScorer(['rouge1', 'rougeL'], use_stemmer = True)"
      ],
      "metadata": {
        "id": "ML3c670wVSOh"
      },
      "execution_count": 239,
      "outputs": []
    },
    {
      "cell_type": "code",
      "source": [
        "scores = []\n",
        "\n",
        "for label, prediction in zip(y_test, summaries):\n",
        "  \n",
        "  score = scorer.score(label, prediction)\n",
        "  scores.append(score)"
      ],
      "metadata": {
        "id": "hpIDJIA9VgM4"
      },
      "execution_count": 249,
      "outputs": []
    },
    {
      "cell_type": "markdown",
      "source": [
        "Computing Averages"
      ],
      "metadata": {
        "id": "05NCr7USXNgR"
      }
    },
    {
      "cell_type": "code",
      "source": [
        "#Rouge1 Average Precision\n",
        "precision_rouge1 = []\n",
        "for score in scores:\n",
        "  precision_rouge1.append(score['rouge1'][0])\n",
        "print(np.mean(precision_rouge1))"
      ],
      "metadata": {
        "colab": {
          "base_uri": "https://localhost:8080/"
        },
        "id": "Y7JalYMyXHF9",
        "outputId": "d0deec91-de5d-426f-b9cf-dc3effa93e69"
      },
      "execution_count": 250,
      "outputs": [
        {
          "output_type": "stream",
          "name": "stdout",
          "text": [
            "0.2983286679316456\n"
          ]
        }
      ]
    },
    {
      "cell_type": "code",
      "source": [
        "#RougeL Average Precision\n",
        "precision_rougeL = []\n",
        "for score in scores: \n",
        "  precision_rougeL.append(score['rougeL'][0])\n",
        "print(np.mean(precision_rougeL))"
      ],
      "metadata": {
        "colab": {
          "base_uri": "https://localhost:8080/"
        },
        "id": "W2XL-8ChXTbP",
        "outputId": "bebce3a8-c773-4780-e752-d8a3c0d5d67b"
      },
      "execution_count": 251,
      "outputs": [
        {
          "output_type": "stream",
          "name": "stdout",
          "text": [
            "0.1875539312263878\n"
          ]
        }
      ]
    },
    {
      "cell_type": "markdown",
      "source": [
        "As Rouge Score focuses solely on n-gram similarity, it is important to also implement human post-processing"
      ],
      "metadata": {
        "id": "XLYRRhRYY5v7"
      }
    },
    {
      "cell_type": "code",
      "source": [
        "y_test.tolist()[4]"
      ],
      "metadata": {
        "colab": {
          "base_uri": "https://localhost:8080/",
          "height": 36
        },
        "id": "9q9mQODPTPYq",
        "outputId": "c83c86b6-28ef-47b9-f9c0-7e793af5d28f"
      },
      "execution_count": 261,
      "outputs": [
        {
          "output_type": "execute_result",
          "data": {
            "text/plain": [
              "'A former marksman returns to action when he is hired to protect the president from a murder complot only to end up framed for the attempt and running away from the law until he can prove his innocence.'"
            ],
            "application/vnd.google.colaboratory.intrinsic+json": {
              "type": "string"
            }
          },
          "metadata": {},
          "execution_count": 261
        }
      ]
    },
    {
      "cell_type": "code",
      "source": [
        "summaries[4]"
      ],
      "metadata": {
        "colab": {
          "base_uri": "https://localhost:8080/",
          "height": 36
        },
        "id": "fWXl4cq0TTun",
        "outputId": "085c2439-76b7-4ac1-fd58-79a728d3b163"
      },
      "execution_count": 260,
      "outputs": [
        {
          "output_type": "execute_result",
          "data": {
            "text/plain": [
              "'A former soldier and his spotter are on a peacekeeping mission in the middle of the Ethiopian desert when they discover a plan to assassinate the president of the United States.'"
            ],
            "application/vnd.google.colaboratory.intrinsic+json": {
              "type": "string"
            }
          },
          "metadata": {},
          "execution_count": 260
        }
      ]
    },
    {
      "cell_type": "markdown",
      "source": [
        "Generally, the premise of the movie is somewhat captured, but there is a combination of too much detail without enough context causing the generated abstraction to be more ambiguous and confusing than the true label for some of the summaries"
      ],
      "metadata": {
        "id": "F0uknsm_Tbet"
      }
    },
    {
      "cell_type": "markdown",
      "source": [
        "Generating Random Examples from training data"
      ],
      "metadata": {
        "id": "1f4dtj9ZUnEI"
      }
    },
    {
      "cell_type": "code",
      "source": [
        "def gen_random(inputs, labels, model, min_length = 30, max_length = 120, size = 5):\n",
        "\n",
        "  rand_ind = np.random.randint(len(inputs) - 1, size = size)\n",
        "\n",
        "  random_data, random_label = [], []\n",
        "  for ind in rand_ind:\n",
        "    random_data.append(inputs[ind]), random_label.append(labels[ind])\n",
        "\n",
        "  tok = list(map(lambda x: tokenizer(x, max_length = 512,\n",
        "                                          truncation = True,\n",
        "                                          padding = True,\n",
        "                                          return_tensors = 'pt'), random_data))\n",
        "  \n",
        "  preds = generate_predictions(model, tok, min_length,\n",
        "                              max_length)\n",
        "  \n",
        "\n",
        "\n",
        "  return list(zip(random_label, preds))\n"
      ],
      "metadata": {
        "id": "B5ws8DD9VY4X"
      },
      "execution_count": 291,
      "outputs": []
    },
    {
      "cell_type": "code",
      "source": [
        "pairs = gen_random(inputs, labels, model)"
      ],
      "metadata": {
        "id": "GlqtlXjMUyAw"
      },
      "execution_count": 296,
      "outputs": []
    },
    {
      "cell_type": "code",
      "source": [
        "pairs[0]"
      ],
      "metadata": {
        "colab": {
          "base_uri": "https://localhost:8080/"
        },
        "id": "JoV2ODt1f9u-",
        "outputId": "d17f965f-4ed3-4ab0-dd3d-a3f7088e2817"
      },
      "execution_count": 297,
      "outputs": [
        {
          "output_type": "execute_result",
          "data": {
            "text/plain": [
              "('A corporate defense attorney takes on an environmental lawsuit against a chemical company that exposes a lengthy history of pollution which led to many health issues around the world.',\n",
              " \"A lawyer is hired by a chemical company to investigate the poisoning of a farmer's cattle. Now he must find a way to stop the poisoning before it's too late.\")"
            ]
          },
          "metadata": {},
          "execution_count": 297
        }
      ]
    },
    {
      "cell_type": "code",
      "source": [
        "pairs[1]"
      ],
      "metadata": {
        "colab": {
          "base_uri": "https://localhost:8080/"
        },
        "id": "MHpFcRrhgCdK",
        "outputId": "4504d5ae-62f5-44dd-ed50-c6ea80eb6bc2"
      },
      "execution_count": 298,
      "outputs": [
        {
          "output_type": "execute_result",
          "data": {
            "text/plain": [
              "('A college girl is trying to enjoy her birthday but soon realizes that this is her last one. Until she figures out who her killer is. She must relive that day, over and over again, dying in a different way each time. ',\n",
              " 'A young woman wakes up in a dorm room on her 18th birthday and decides to hide her birthdate in order to hide her true identity.')"
            ]
          },
          "metadata": {},
          "execution_count": 298
        }
      ]
    },
    {
      "cell_type": "markdown",
      "source": [
        "Hope you enjoyed! There is definitly room to improve the abstractions, a clear way is to have a more powerful GPU and increase embedding size to 1024 or even 2048."
      ],
      "metadata": {
        "id": "rpdPWl-Kgelf"
      }
    }
  ]
}